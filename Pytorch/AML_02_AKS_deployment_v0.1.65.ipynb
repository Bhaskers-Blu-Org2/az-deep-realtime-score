{
    "cells": [
        {
            "cell_type": "markdown",
            "metadata": {},
            "source": "# Refer to \nhttps://github.com/Azure/ViennaDocs/blob/master/PrivatePreview/notebooks/01.train-within-notebook.ipynb\nhttps://github.com/Azure/ViennaDocs/blob/master/PrivatePreview/notebooks/11.production-deploy-to-aks.ipynb"
        },
        {
            "cell_type": "code",
            "execution_count": 1,
            "metadata": {},
            "outputs": [],
            "source": "from azureml.core import Workspace\nfrom azureml.core.compute import AksCompute, ComputeTarget\nfrom azureml.core.webservice import Webservice, AksWebservice\nfrom azureml.core.image import Image\nfrom azureml.core.model import Model"
        },
        {
            "cell_type": "code",
            "execution_count": 2,
            "metadata": {},
            "outputs": [
                {
                    "name": "stdout",
                    "output_type": "stream",
                    "text": "0.1.65\n"
                }
            ],
            "source": "import azureml.core\nprint(azureml.core.VERSION)"
        },
        {
            "cell_type": "code",
            "execution_count": 3,
            "metadata": {},
            "outputs": [
                {
                    "name": "stdout",
                    "output_type": "stream",
                    "text": "Found the config file in: /home/jayaubuntudsvm/Desktop/AKSDeploymentTutorial/Keras_Tensorflow/aml_config/config.json\njayavienna\njayavienna\neastus2\nedf507a2-6235-46c5-b560-fd463ba2e771\n"
                }
            ],
            "source": "from azureml.core.workspace import Workspace\n\nws = Workspace.from_config()\nprint(ws.name, ws.resource_group, ws.location, ws.subscription_id, sep = '\\n')"
        },
        {
            "cell_type": "code",
            "execution_count": 4,
            "metadata": {},
            "outputs": [
                {
                    "name": "stderr",
                    "output_type": "stream",
                    "text": "Using TensorFlow backend.\n"
                }
            ],
            "source": "#Creating the model pickle file\nimport tensorflow as tf\nfrom resnet152 import ResNet152\nfrom keras.preprocessing import image\nfrom keras.applications.imagenet_utils import preprocess_input, decode_predictions\n\nmodel = ResNet152(weights='imagenet')"
        },
        {
            "cell_type": "code",
            "execution_count": 5,
            "metadata": {},
            "outputs": [
                {
                    "data": {
                        "text/plain": "<keras.engine.training.Model at 0x7fb506d70400>"
                    },
                    "execution_count": 5,
                    "metadata": {},
                    "output_type": "execute_result"
                }
            ],
            "source": "model"
        },
        {
            "cell_type": "code",
            "execution_count": 6,
            "metadata": {},
            "outputs": [],
            "source": "model_json = model.to_json()\nwith open(\"model_resnet.json\", \"w\") as json_file:\n    json_file.write(model_json)"
        },
        {
            "cell_type": "code",
            "execution_count": 7,
            "metadata": {},
            "outputs": [],
            "source": "model.save_weights(\"model_resnet_weights.h5\")"
        },
        {
            "cell_type": "code",
            "execution_count": 8,
            "metadata": {},
            "outputs": [],
            "source": "#from keras.models import model_from_json\n#model = model_from_json(model_json)"
        },
        {
            "cell_type": "code",
            "execution_count": 9,
            "metadata": {},
            "outputs": [],
            "source": "model.load_weights('model_resnet_weights.h5')"
        },
        {
            "cell_type": "code",
            "execution_count": 10,
            "metadata": {},
            "outputs": [
                {
                    "data": {
                        "text/plain": "<keras.engine.training.Model at 0x7fb506d70400>"
                    },
                    "execution_count": 10,
                    "metadata": {},
                    "output_type": "execute_result"
                }
            ],
            "source": "model"
        },
        {
            "cell_type": "code",
            "execution_count": 11,
            "metadata": {},
            "outputs": [],
            "source": "#Register the model\n#from azureml.core.model import Model\n#model = Model.register(model_path = \"model_resnet_weights.h5\", # this points to a local file\n#                       model_name = \"resnet_model\", # this is the name the model is registered as\n#                       tags = [\"dl\", \"resnet\"],\n#                       description = \"resnet 152 model\",\n#                       workspace = ws)\n\n#print(model.name, model.description, model.version)"
        },
        {
            "cell_type": "code",
            "execution_count": 12,
            "metadata": {},
            "outputs": [],
            "source": "#define init() function\ndef init():\n    import tensorflow as tf\n    from resnet152 import ResNet152\n    from keras.preprocessing import image\n    from keras.applications.imagenet_utils import preprocess_input, decode_predictions\n\n    import numpy as np\n    import timeit as t\n    import base64\n    import json\n    from PIL import Image, ImageOps\n    from io import BytesIO\n    import logging\n\n    global model\n    model = ResNet152(weights='imagenet')\n    print('Model loaded')"
        },
        {
            "cell_type": "code",
            "execution_count": 13,
            "metadata": {},
            "outputs": [
                {
                    "name": "stdout",
                    "output_type": "stream",
                    "text": "Model loaded\n"
                }
            ],
            "source": "init()"
        },
        {
            "cell_type": "code",
            "execution_count": 14,
            "metadata": {},
            "outputs": [],
            "source": "#define run() function \ndef run(img_path):\n    \n    import tensorflow as tf\n    from resnet152 import ResNet152\n    from keras.preprocessing import image\n    from keras.applications.imagenet_utils import preprocess_input, decode_predictions\n\n    import numpy as np\n    import timeit as t\n    import base64\n    import json\n    from PIL import Image, ImageOps\n    from io import BytesIO\n    import logging   \n    \n    model = ResNet152(weights='imagenet')\n    print('Model loaded')\n  \n    img = image.load_img(img_path, target_size=(224, 224))\n    img = image.img_to_array(img)\n    img = np.expand_dims(img, axis=0)\n    img = preprocess_input(img)\n    \n    preds = model.predict(img)\n    print('Predicted:', decode_predictions(preds, top=3))"
        },
        {
            "cell_type": "code",
            "execution_count": 15,
            "metadata": {},
            "outputs": [
                {
                    "data": {
                        "text/plain": "'220px-Lynx_lynx_poing (3).jpg'"
                    },
                    "execution_count": 15,
                    "metadata": {},
                    "output_type": "execute_result"
                }
            ],
            "source": "import wget\nwget.download('https://upload.wikimedia.org/wikipedia/commons/thumb/6/68/Lynx_lynx_poing.jpg/220px-Lynx_lynx_poing.jpg')"
        },
        {
            "cell_type": "code",
            "execution_count": 16,
            "metadata": {},
            "outputs": [],
            "source": "img_path = '220px-Lynx_lynx_poing.jpg'"
        },
        {
            "cell_type": "code",
            "execution_count": 17,
            "metadata": {},
            "outputs": [
                {
                    "name": "stdout",
                    "output_type": "stream",
                    "text": "Model loaded\nPredicted: [[('n02127052', 'lynx', 0.99590886), ('n02128385', 'leopard', 0.001150445), ('n02123159', 'tiger_cat', 0.0009417962)]]\n"
                }
            ],
            "source": "run(img_path)"
        },
        {
            "cell_type": "code",
            "execution_count": 18,
            "metadata": {},
            "outputs": [
                {
                    "name": "stdout",
                    "output_type": "stream",
                    "text": "Overwriting score.py\n"
                }
            ],
            "source": "%%writefile score.py\ndef init():\n    import tensorflow as tf\n    from resnet152 import ResNet152\n    from keras.preprocessing import image\n    from keras.applications.imagenet_utils import preprocess_input, decode_predictions\n\n    import numpy as np\n    import timeit as t\n    import base64\n    import json\n    from PIL import Image, ImageOps\n    from io import BytesIO\n    import logging\n\n    global model\n    model = ResNet152(weights='imagenet')\n    print('Model loaded')\n    \ndef run(img_path):\n    \n    import tensorflow as tf\n    from resnet152 import ResNet152\n    from keras.preprocessing import image\n    from keras.applications.imagenet_utils import preprocess_input, decode_predictions\n\n    import numpy as np\n    import timeit as t\n    import base64\n    import json\n    from PIL import Image, ImageOps\n    from io import BytesIO\n    import logging   \n    \n    model = ResNet152(weights='imagenet')\n    print('Model loaded')\n  \n    img = image.load_img(img_path, target_size=(224, 224))\n    img = image.img_to_array(img)\n    img = np.expand_dims(img, axis=0)\n    img = preprocess_input(img)\n    \n    preds = model.predict(img)\n    print('Predicted:', decode_predictions(preds, top=3))    "
        },
        {
            "cell_type": "code",
            "execution_count": 19,
            "metadata": {},
            "outputs": [],
            "source": "%run score.py"
        },
        {
            "cell_type": "code",
            "execution_count": null,
            "metadata": {},
            "outputs": [],
            "source": "!more score.py"
        },
        {
            "cell_type": "code",
            "execution_count": null,
            "metadata": {},
            "outputs": [],
            "source": "!more conda_dependencies.yml"
        },
        {
            "cell_type": "code",
            "execution_count": 20,
            "metadata": {},
            "outputs": [
                {
                    "data": {
                        "text/plain": "'/home/jayaubuntudsvm/Desktop/AKSDeploymentTutorial/Keras_Tensorflow'"
                    },
                    "execution_count": 20,
                    "metadata": {},
                    "output_type": "execute_result"
                }
            ],
            "source": "import os\nos.getcwd()"
        },
        {
            "cell_type": "code",
            "execution_count": 21,
            "metadata": {},
            "outputs": [
                {
                    "data": {
                        "text/plain": "['AML_00_configuration_v0.1.50.ipynb',\n '00_DevelopModel.ipynb',\n 'AML_02_DevelopModelDriver_AKS-old.ipynb',\n '220px-Lynx_lynx_poing (3).jpg',\n 'AML_01_trainlocal-docker.ipynb',\n 'model_resnet_weights.h5',\n 'AML_02_resnet_model_weights.ipynb',\n '01_DevelopModelDriver.ipynb',\n '__pycache__',\n 'samples',\n 'resnet152_n.py',\n '06_SpeedTestWebApp.ipynb',\n '03_TestLocally.ipynb',\n 'AML_02_Develop_init_run_functions.ipynb',\n '220px-Lynx_lynx_poing (1).jpg',\n 'AML_02_AKS_deployment_v0.1.65.ipynb',\n 'AML_02_AKS_deployment.ipynb',\n 'aml_config',\n '05_TestWebApp.ipynb',\n '04_DeployOnAKS.ipynb',\n 'score.py',\n 'model_resnet.json',\n 'AML_01_trainlocal_v0.1.50.ipynb',\n 'AML_00_configuration_v0.1.65.ipynb',\n '02_BuildImage.ipynb',\n '07_TearDown.ipynb',\n 'helpers.py',\n 'testing_utilities.py',\n '220px-Lynx_lynx_poing.jpg',\n 'config',\n 'conda_dependencies.yml',\n 'resnet152.py',\n 'AML_02_AKS_deployment_v0.1.50.ipynb',\n '220px-Lynx_lynx_poing (2).jpg',\n 'README.md',\n 'environment.yml',\n 'sample_projects',\n 'AML_01_trainlocal_v0.1.65.ipynb',\n '.ipynb_checkpoints']"
                    },
                    "execution_count": 21,
                    "metadata": {},
                    "output_type": "execute_result"
                }
            ],
            "source": "os.listdir(os.getcwd())"
        },
        {
            "cell_type": "code",
            "execution_count": 1,
            "metadata": {},
            "outputs": [],
            "source": "from azureml.core.image import ContainerImage"
        },
        {
            "cell_type": "code",
            "execution_count": 2,
            "metadata": {},
            "outputs": [],
            "source": "ContainerImage.create??"
        },
        {
            "cell_type": "code",
            "execution_count": 22,
            "metadata": {},
            "outputs": [
                {
                    "name": "stdout",
                    "output_type": "stream",
                    "text": "Creating image\nRunning........................................................................................\nSucceededImage creation operation finished for image myimage1:11, operation \"Succeeded\"\n"
                }
            ],
            "source": "\n\nimage_config = ContainerImage.image_configuration(execution_script = \"score.py\",\n                                                  runtime = \"python\",\n                                                  conda_file = \"conda_dependencies.yml\",\n                                                  description = \"Image for AKS Deployment Tutorial\",\n                                                  tags = {\"name\":\"AKS\",\"project\":\"AML\"}, \n                                                  dependencies = [\"resnet152.py\",\"220px-Lynx_lynx_poing.jpg\"],\n                                                  enable_gpu = True\n                                                 )\n\nimage = ContainerImage.create(name = \"myimage1\",\n                              # this is the model object\n                              models = [],                              \n                              image_config = image_config,\n                              workspace = ws)\n\nimage.wait_for_creation(show_output = True)"
        },
        {
            "cell_type": "code",
            "execution_count": 23,
            "metadata": {},
            "outputs": [
                {
                    "data": {
                        "text/plain": "{'my-aci-svc-1': ContainerImage(workspace=<azureml.core.workspace.Workspace object at 0x7fb578f80978>, name=my-aci-svc-1, id=my-aci-svc-1:4, tags={}, properties={}, version=4),\n 'myimage1': ContainerImage(workspace=<azureml.core.workspace.Workspace object at 0x7fb578f80978>, name=myimage1, id=myimage1:11, tags={'name': 'AKS', 'project': 'AML'}, properties={}, version=11)}"
                    },
                    "execution_count": 23,
                    "metadata": {},
                    "output_type": "execute_result"
                }
            ],
            "source": "#list images\nimages = ws.images()\nimages"
        },
        {
            "cell_type": "code",
            "execution_count": 24,
            "metadata": {},
            "outputs": [],
            "source": "#for img in ws.images():\n#    if img.name == 'myimage1': img.delete()"
        },
        {
            "cell_type": "code",
            "execution_count": 25,
            "metadata": {},
            "outputs": [],
            "source": "#Provision AKS cluster\n# Use the default configuration (can also provide parameters to customize)\n#prov_config = AksCompute.provisioning_configuration()\n\n#aks_name = 'jaya-aks-7' \n# Create the cluster\n#aks_target = ComputeTarget.create(workspace = ws, \n#                                  name = aks_name, \n#                                  provisioning_configuration = prov_config)"
        },
        {
            "cell_type": "code",
            "execution_count": 26,
            "metadata": {},
            "outputs": [],
            "source": "#Provision AKS cluster with GPU machine\n# Use the default configuration (can also provide parameters to customize)\nprov_config = AksCompute.provisioning_configuration(vm_size='Standard_NC6')\n\naks_name = 'jaya-aks-9' \n# Create the cluster\naks_target = ComputeTarget.create(workspace = ws, \n                                  name = aks_name, \n                                  provisioning_configuration = prov_config)"
        },
        {
            "cell_type": "code",
            "execution_count": 27,
            "metadata": {},
            "outputs": [
                {
                    "name": "stdout",
                    "output_type": "stream",
                    "text": "Creating......................................................................................................................................\nSucceededProvisioning operation finished, operation \"Succeeded\"\nSucceeded\nNone\nCPU times: user 1.99 s, sys: 122 ms, total: 2.11 s\nWall time: 11min 39s\n"
                }
            ],
            "source": "%%time\naks_target.wait_for_completion(show_output = True)\nprint(aks_target.provisioning_state)\nprint(aks_target.provisioning_errors)"
        },
        {
            "cell_type": "code",
            "execution_count": 28,
            "metadata": {},
            "outputs": [
                {
                    "name": "stdout",
                    "output_type": "stream",
                    "text": "\u001b[31mThe Resource 'Microsoft.ContainerService/managedClusters/jaya-aks-8' under resource group 'jayavienna' was not found.\u001b[0m\n\u001b[0m"
                }
            ],
            "source": "!az aks get-credentials -n 'jaya-aks-8' -g jayavienna -a -f config"
        },
        {
            "cell_type": "code",
            "execution_count": 29,
            "metadata": {},
            "outputs": [
                {
                    "name": "stdout",
                    "output_type": "stream",
                    "text": "Error from server (NotAcceptable): unknown (get services)\r\n"
                }
            ],
            "source": "!kubectl --kubeconfig config get services"
        },
        {
            "cell_type": "code",
            "execution_count": 30,
            "metadata": {},
            "outputs": [],
            "source": "#Deploy web service to AKS\n#Set the web service configuration (using default here)\naks_config = AksWebservice.deploy_configuration()"
        },
        {
            "cell_type": "code",
            "execution_count": 31,
            "metadata": {},
            "outputs": [
                {
                    "name": "stdout",
                    "output_type": "stream",
                    "text": "Creating service\nRunning.......................................................................................................................\nTimedOutAKS service creation operation finished, operation \"TimedOut\"\nTransitioning\nCPU times: user 1.94 s, sys: 139 ms, total: 2.08 s\nWall time: 10min 28s\n"
                }
            ],
            "source": "%%time\naks_service_name ='jaya-aks-service-10'\n\naks_service = Webservice.deploy_from_image(workspace = ws, \n                                           name = aks_service_name,\n                                           image = image,\n                                           deployment_config = aks_config,\n                                           deployment_target = aks_target)\naks_service.wait_for_deployment(show_output = True)\nprint(aks_service.state)"
        },
        {
            "cell_type": "code",
            "execution_count": 32,
            "metadata": {},
            "outputs": [
                {
                    "name": "stdout",
                    "output_type": "stream",
                    "text": "Found the config file in: /home/jayaubuntudsvm/Desktop/AKSDeploymentTutorial/Keras_Tensorflow/aml_config/config.json\n"
                },
                {
                    "ename": "WebserviceException",
                    "evalue": "Received bad response from Model Management Service:\nResponse Code: 500\nHeaders: {'Date': 'Thu, 18 Oct 2018 19:19:03 GMT', 'Content-Type': 'application/json', 'Transfer-Encoding': 'chunked', 'Connection': 'keep-alive', 'api-supported-versions': '2018-03-01-preview', 'x-ms-client-request-id': '9b132e62ebdb45b3b92631e9b9fba8b0', 'x-ms-client-session-id': '', 'Strict-Transport-Security': 'max-age=15724800; includeSubDomains; preload'}\nContent: b'{\"code\":\"InternalServerError\",\"statusCode\":500,\"message\":\"An internal server error occurred. Please try again. If the problem persists, contact support\"}'",
                    "output_type": "error",
                    "traceback": [
                        "\u001b[0;31m---------------------------------------------------------------------------\u001b[0m",
                        "\u001b[0;31mWebserviceException\u001b[0m                       Traceback (most recent call last)",
                        "\u001b[0;32m<ipython-input-32-187191d3d7e6>\u001b[0m in \u001b[0;36m<module>\u001b[0;34m()\u001b[0m\n\u001b[1;32m     12\u001b[0m \u001b[0;34m\u001b[0m\u001b[0m\n\u001b[1;32m     13\u001b[0m \u001b[0;31m# print out the Docker log\u001b[0m\u001b[0;34m\u001b[0m\u001b[0;34m\u001b[0m\u001b[0m\n\u001b[0;32m---> 14\u001b[0;31m \u001b[0mprint\u001b[0m\u001b[0;34m(\u001b[0m\u001b[0msvc\u001b[0m\u001b[0;34m.\u001b[0m\u001b[0mget_logs\u001b[0m\u001b[0;34m(\u001b[0m\u001b[0;34m)\u001b[0m\u001b[0;34m)\u001b[0m\u001b[0;34m\u001b[0m\u001b[0m\n\u001b[0m",
                        "\u001b[0;32m/anaconda/envs/myenv/lib/python3.6/site-packages/azureml/core/webservice/webservice.py\u001b[0m in \u001b[0;36mget_logs\u001b[0;34m(self, num_lines)\u001b[0m\n\u001b[1;32m    615\u001b[0m                                       \u001b[0;34m'Response Code: {}\\n'\u001b[0m\u001b[0;34m\u001b[0m\u001b[0m\n\u001b[1;32m    616\u001b[0m                                       \u001b[0;34m'Headers: {}\\n'\u001b[0m\u001b[0;34m\u001b[0m\u001b[0m\n\u001b[0;32m--> 617\u001b[0;31m                                       'Content: {}'.format(resp.status_code, resp.headers, resp.content))\n\u001b[0m\u001b[1;32m    618\u001b[0m \u001b[0;34m\u001b[0m\u001b[0m\n\u001b[1;32m    619\u001b[0m     \u001b[0;34m@\u001b[0m\u001b[0mabstractmethod\u001b[0m\u001b[0;34m\u001b[0m\u001b[0m\n",
                        "\u001b[0;31mWebserviceException\u001b[0m: Received bad response from Model Management Service:\nResponse Code: 500\nHeaders: {'Date': 'Thu, 18 Oct 2018 19:19:03 GMT', 'Content-Type': 'application/json', 'Transfer-Encoding': 'chunked', 'Connection': 'keep-alive', 'api-supported-versions': '2018-03-01-preview', 'x-ms-client-request-id': '9b132e62ebdb45b3b92631e9b9fba8b0', 'x-ms-client-session-id': '', 'Strict-Transport-Security': 'max-age=15724800; includeSubDomains; preload'}\nContent: b'{\"code\":\"InternalServerError\",\"statusCode\":500,\"message\":\"An internal server error occurred. Please try again. If the problem persists, contact support\"}'"
                    ]
                }
            ],
            "source": "#Debug\n\n# load workspace from default config file\nws = Workspace.from_config()\n\n# list all web services in the workspace\n#for s in ws.webservices():\n#    print(s.name)\n\n# instantiate the web service object from workspace and service name\nsvc = Webservice(workspace = ws, name = 'jaya-aks-service-10')\n\n# print out the Docker log\nprint(svc.get_logs())"
        },
        {
            "cell_type": "code",
            "execution_count": 33,
            "metadata": {},
            "outputs": [
                {
                    "ename": "WebserviceException",
                    "evalue": "Received bad response from Model Management Service:\nResponse Code: 500\nHeaders: {'Date': 'Thu, 18 Oct 2018 19:19:20 GMT', 'Content-Type': 'application/json', 'Transfer-Encoding': 'chunked', 'Connection': 'keep-alive', 'api-supported-versions': '2018-03-01-preview', 'x-ms-client-request-id': '7c211a1922554d6da4a0f6ccfc1778f3', 'x-ms-client-session-id': '', 'Strict-Transport-Security': 'max-age=15724800; includeSubDomains; preload'}\nContent: b'{\"code\":\"InternalServerError\",\"statusCode\":500,\"message\":\"An internal server error occurred. Please try again. If the problem persists, contact support\"}'",
                    "output_type": "error",
                    "traceback": [
                        "\u001b[0;31m---------------------------------------------------------------------------\u001b[0m",
                        "\u001b[0;31mWebserviceException\u001b[0m                       Traceback (most recent call last)",
                        "\u001b[0;32m<ipython-input-33-e04476714df9>\u001b[0m in \u001b[0;36m<module>\u001b[0;34m()\u001b[0m\n\u001b[1;32m      1\u001b[0m \u001b[0;31m#debug web service failure\u001b[0m\u001b[0;34m\u001b[0m\u001b[0;34m\u001b[0m\u001b[0m\n\u001b[0;32m----> 2\u001b[0;31m \u001b[0mprint\u001b[0m\u001b[0;34m(\u001b[0m\u001b[0mws\u001b[0m\u001b[0;34m.\u001b[0m\u001b[0mwebservices\u001b[0m\u001b[0;34m(\u001b[0m\u001b[0;34m)\u001b[0m\u001b[0;34m[\u001b[0m\u001b[0;34m'jaya-aks-service-10'\u001b[0m\u001b[0;34m]\u001b[0m\u001b[0;34m.\u001b[0m\u001b[0mget_logs\u001b[0m\u001b[0;34m(\u001b[0m\u001b[0;34m)\u001b[0m\u001b[0;34m)\u001b[0m\u001b[0;34m\u001b[0m\u001b[0m\n\u001b[0m",
                        "\u001b[0;32m/anaconda/envs/myenv/lib/python3.6/site-packages/azureml/core/webservice/webservice.py\u001b[0m in \u001b[0;36mget_logs\u001b[0;34m(self, num_lines)\u001b[0m\n\u001b[1;32m    615\u001b[0m                                       \u001b[0;34m'Response Code: {}\\n'\u001b[0m\u001b[0;34m\u001b[0m\u001b[0m\n\u001b[1;32m    616\u001b[0m                                       \u001b[0;34m'Headers: {}\\n'\u001b[0m\u001b[0;34m\u001b[0m\u001b[0m\n\u001b[0;32m--> 617\u001b[0;31m                                       'Content: {}'.format(resp.status_code, resp.headers, resp.content))\n\u001b[0m\u001b[1;32m    618\u001b[0m \u001b[0;34m\u001b[0m\u001b[0m\n\u001b[1;32m    619\u001b[0m     \u001b[0;34m@\u001b[0m\u001b[0mabstractmethod\u001b[0m\u001b[0;34m\u001b[0m\u001b[0m\n",
                        "\u001b[0;31mWebserviceException\u001b[0m: Received bad response from Model Management Service:\nResponse Code: 500\nHeaders: {'Date': 'Thu, 18 Oct 2018 19:19:20 GMT', 'Content-Type': 'application/json', 'Transfer-Encoding': 'chunked', 'Connection': 'keep-alive', 'api-supported-versions': '2018-03-01-preview', 'x-ms-client-request-id': '7c211a1922554d6da4a0f6ccfc1778f3', 'x-ms-client-session-id': '', 'Strict-Transport-Security': 'max-age=15724800; includeSubDomains; preload'}\nContent: b'{\"code\":\"InternalServerError\",\"statusCode\":500,\"message\":\"An internal server error occurred. Please try again. If the problem persists, contact support\"}'"
                    ]
                }
            ],
            "source": "#debug web service failure\nprint(ws.webservices()['jaya-aks-service-10'].get_logs())"
        },
        {
            "cell_type": "code",
            "execution_count": null,
            "metadata": {},
            "outputs": [],
            "source": "#clean up resources\n#aks_target = AksCompute(name='jaya-aks-1',workspace=ws)\n#aks_target.delete()"
        },
        {
            "cell_type": "code",
            "execution_count": null,
            "metadata": {},
            "outputs": [],
            "source": "#alternate code to clean up resources\n#!az aks delete --resource-group jayavienna --name jaya-aks-2 --yes"
        },
        {
            "cell_type": "code",
            "execution_count": null,
            "metadata": {},
            "outputs": [],
            "source": "#for s in ws.webservices():\n#    print(s.name)"
        },
        {
            "cell_type": "code",
            "execution_count": null,
            "metadata": {},
            "outputs": [],
            "source": "#s =  Webservice(ws, 'jaya-aks-service-2')\n#s.delete()"
        },
        {
            "cell_type": "code",
            "execution_count": null,
            "metadata": {},
            "outputs": [],
            "source": "#from azureml.core import Workspace\n#from azureml.core.compute import AksCompute, ComputeTarget\n\n#ws = Workspace.from_config()\n\n#for c in ws.compute_targets():\n#    print(c.name)\n"
        },
        {
            "cell_type": "code",
            "execution_count": null,
            "metadata": {},
            "outputs": [],
            "source": ""
        }
    ],
    "metadata": {
        "kernelspec": {
            "display_name": "Python 3",
            "language": "python",
            "name": "python3"
        },
        "language_info": {
            "codemirror_mode": {
                "name": "ipython",
                "version": 3
            },
            "file_extension": ".py",
            "mimetype": "text/x-python",
            "name": "python",
            "nbconvert_exporter": "python",
            "pygments_lexer": "ipython3",
            "version": "3.6.6"
        }
    },
    "nbformat": 4,
    "nbformat_minor": 2
}
