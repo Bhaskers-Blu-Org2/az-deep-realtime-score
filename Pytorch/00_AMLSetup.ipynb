{
    "cells": [
        {
            "cell_type": "markdown",
            "metadata": {},
            "source": "# Do the pre-req setup\nhttps://docs.microsoft.com/en-us/azure/machine-learning/service/how-to-configure-environment#create-workspace-configuration-file\nhttps://github.com/Azure/ViennaDocs/blob/master/PrivatePreview/notebooks/00.configuration.ipynb"
        },
        {
            "cell_type": "code",
            "execution_count": 1,
            "metadata": {
                "tags": [
                    "stripout"
                ]
            },
            "outputs": [],
            "source": "#Connect to your Azure Subscription\n!az login -o table"
        },
        {
            "cell_type": "code",
            "execution_count": 2,
            "metadata": {
                "tags": [
                    "stripout"
                ]
            },
            "outputs": [],
            "source": "!az account set --subscription \"<YOUR_SUBSCRIPTION>\""
        },
        {
            "cell_type": "code",
            "execution_count": 3,
            "metadata": {
                "tags": [
                    "stripout"
                ]
            },
            "outputs": [],
            "source": "# register the new RP\n!az provider register -n Microsoft.MachineLearningServices\n\n# check the registration status\n!az provider show -n Microsoft.MachineLearningServices"
        },
        {
            "cell_type": "code",
            "execution_count": 39,
            "metadata": {},
            "outputs": [
                {
                    "name": "stdout",
                    "output_type": "stream",
                    "text": "SDK Version: 0.1.74\n"
                }
            ],
            "source": "import azureml.core\nfrom azureml.core import Workspace\n\nprint(\"SDK Version:\", azureml.core.VERSION)"
        },
        {
            "cell_type": "code",
            "execution_count": 40,
            "metadata": {},
            "outputs": [],
            "source": "#Initialize an Azure ML Workspace\nsubscription_id_query = !az account show --query id -o tsv\nsubscription_id = account_query.s\nresource_group = \"amlakspytorchrg\"\nworkspace_name = \"pytorch_workspace\"\nworkspace_region = \"eastus2\" # or eastus2euap"
        },
        {
            "cell_type": "code",
            "execution_count": 41,
            "metadata": {
                "tags": [
                    "stripout"
                ]
            },
            "outputs": [],
            "source": "ws = Workspace.create(\n        name=workspace_name,\n        subscription_id=subscription_id,\n        resource_group=resource_group,\n        location=workspace_region,\n        create_resource_group=True,\n        exist_ok=True,\n    )\n\n\n# persist the subscription id, resource group name, and workspace name in aml_config/config.json.\nws.write_config()"
        },
        {
            "cell_type": "markdown",
            "metadata": {},
            "source": "Below we will reload it just to make sure that everything is working"
        },
        {
            "cell_type": "code",
            "execution_count": 42,
            "metadata": {
                "tags": [
                    "stripout"
                ]
            },
            "outputs": [],
            "source": "my_workspace = Workspace.from_config()\nmy_workspace.get_details()"
        }
    ],
    "metadata": {
        "celltoolbar": "Tags",
        "kernelspec": {
            "display_name": "Python 3",
            "language": "python",
            "name": "python3"
        },
        "language_info": {
            "codemirror_mode": {
                "name": "ipython",
                "version": 3
            },
            "file_extension": ".py",
            "mimetype": "text/x-python",
            "name": "python",
            "nbconvert_exporter": "python",
            "pygments_lexer": "ipython3",
            "version": "3.6.6"
        }
    },
    "nbformat": 4,
    "nbformat_minor": 2
}
