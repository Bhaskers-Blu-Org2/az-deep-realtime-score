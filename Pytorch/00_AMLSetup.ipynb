{
 "cells": [
  {
   "cell_type": "markdown",
   "metadata": {},
   "source": [
    "# Do the pre-req setup\n",
    "https://docs.microsoft.com/en-us/azure/machine-learning/service/how-to-configure-environment#create-workspace-configuration-file\n",
    "https://github.com/Azure/ViennaDocs/blob/master/PrivatePreview/notebooks/00.configuration.ipynb"
   ]
  },
  {
   "cell_type": "code",
   "execution_count": 1,
   "metadata": {
    "tags": [
     "stripout"
    ]
   },
   "outputs": [
    {
     "name": "stdout",
     "output_type": "stream",
     "text": [
      "\u001b[33mTo sign in, use a web browser to open the page https://microsoft.com/devicelogin and enter the code AKWHL3SS6 to authenticate.\u001b[0m\n",
      "[\n",
      "  {\n",
      "    \"cloudName\": \"AzureCloud\",\n",
      "    \"id\": \"fb11e9eb-22e1-4347-8d0a-84ef60157664\",\n",
      "    \"isDefault\": false,\n",
      "    \"name\": \"Visual Studio Enterprise\",\n",
      "    \"state\": \"Enabled\",\n",
      "    \"tenantId\": \"72f988bf-86f1-41af-91ab-2d7cd011db47\",\n",
      "    \"user\": {\n",
      "      \"name\": \"masalvar@microsoft.com\",\n",
      "      \"type\": \"user\"\n",
      "    }\n",
      "  },\n",
      "  {\n",
      "    \"cloudName\": \"AzureCloud\",\n",
      "    \"id\": \"1ba81249-8edd-4619-a486-3d28a2176aad\",\n",
      "    \"isDefault\": false,\n",
      "    \"name\": \"Azure Internal - London\",\n",
      "    \"state\": \"Enabled\",\n",
      "    \"tenantId\": \"72f988bf-86f1-41af-91ab-2d7cd011db47\",\n",
      "    \"user\": {\n",
      "      \"name\": \"masalvar@microsoft.com\",\n",
      "      \"type\": \"user\"\n",
      "    }\n",
      "  },\n",
      "  {\n",
      "    \"cloudName\": \"AzureCloud\",\n",
      "    \"id\": \"edf507a2-6235-46c5-b560-fd463ba2e771\",\n",
      "    \"isDefault\": true,\n",
      "    \"name\": \"Boston Team Danielle\",\n",
      "    \"state\": \"Enabled\",\n",
      "    \"tenantId\": \"72f988bf-86f1-41af-91ab-2d7cd011db47\",\n",
      "    \"user\": {\n",
      "      \"name\": \"masalvar@microsoft.com\",\n",
      "      \"type\": \"user\"\n",
      "    }\n",
      "  },\n",
      "  {\n",
      "    \"cloudName\": \"AzureCloud\",\n",
      "    \"id\": \"dae41bd3-9db4-4b9b-943e-832b57cac828\",\n",
      "    \"isDefault\": false,\n",
      "    \"name\": \"Cosmos_WDG_Core_BnB_100348\",\n",
      "    \"state\": \"Enabled\",\n",
      "    \"tenantId\": \"72f988bf-86f1-41af-91ab-2d7cd011db47\",\n",
      "    \"user\": {\n",
      "      \"name\": \"masalvar@microsoft.com\",\n",
      "      \"type\": \"user\"\n",
      "    }\n",
      "  },\n",
      "  {\n",
      "    \"cloudName\": \"AzureCloud\",\n",
      "    \"id\": \"8c52214a-96c8-44e4-af24-31c54b965422\",\n",
      "    \"isDefault\": false,\n",
      "    \"name\": \"1DS4ES-NonProd\",\n",
      "    \"state\": \"Enabled\",\n",
      "    \"tenantId\": \"72f988bf-86f1-41af-91ab-2d7cd011db47\",\n",
      "    \"user\": {\n",
      "      \"name\": \"masalvar@microsoft.com\",\n",
      "      \"type\": \"user\"\n",
      "    }\n",
      "  },\n",
      "  {\n",
      "    \"cloudName\": \"AzureCloud\",\n",
      "    \"id\": \"9a2ea167-0faf-4834-a0f7-cc08e844bf82\",\n",
      "    \"isDefault\": false,\n",
      "    \"name\": \"1DS4ES-Prod\",\n",
      "    \"state\": \"Enabled\",\n",
      "    \"tenantId\": \"72f988bf-86f1-41af-91ab-2d7cd011db47\",\n",
      "    \"user\": {\n",
      "      \"name\": \"masalvar@microsoft.com\",\n",
      "      \"type\": \"user\"\n",
      "    }\n",
      "  },\n",
      "  {\n",
      "    \"cloudName\": \"AzureCloud\",\n",
      "    \"id\": \"00c06639-6ee4-454e-8058-8d8b1703bd87\",\n",
      "    \"isDefault\": false,\n",
      "    \"name\": \"AI Infra Build\",\n",
      "    \"state\": \"Enabled\",\n",
      "    \"tenantId\": \"72f988bf-86f1-41af-91ab-2d7cd011db47\",\n",
      "    \"user\": {\n",
      "      \"name\": \"masalvar@microsoft.com\",\n",
      "      \"type\": \"user\"\n",
      "    }\n",
      "  },\n",
      "  {\n",
      "    \"cloudName\": \"AzureCloud\",\n",
      "    \"id\": \"a20c82c7-4497-4d44-952a-3105f790e26b\",\n",
      "    \"isDefault\": false,\n",
      "    \"name\": \"PhillyExt\",\n",
      "    \"state\": \"Enabled\",\n",
      "    \"tenantId\": \"72f988bf-86f1-41af-91ab-2d7cd011db47\",\n",
      "    \"user\": {\n",
      "      \"name\": \"masalvar@microsoft.com\",\n",
      "      \"type\": \"user\"\n",
      "    }\n",
      "  },\n",
      "  {\n",
      "    \"cloudName\": \"AzureCloud\",\n",
      "    \"id\": \"d50e5f6b-6c27-4ab1-8587-3d85cef6426e\",\n",
      "    \"isDefault\": false,\n",
      "    \"name\": \"PhillyInt\",\n",
      "    \"state\": \"Enabled\",\n",
      "    \"tenantId\": \"72f988bf-86f1-41af-91ab-2d7cd011db47\",\n",
      "    \"user\": {\n",
      "      \"name\": \"masalvar@microsoft.com\",\n",
      "      \"type\": \"user\"\n",
      "    }\n",
      "  },\n",
      "  {\n",
      "    \"cloudName\": \"AzureCloud\",\n",
      "    \"id\": \"fc4ea3c9-1d30-4f18-b33b-7404e7da0123\",\n",
      "    \"isDefault\": false,\n",
      "    \"name\": \"Azure Cat E2E\",\n",
      "    \"state\": \"Enabled\",\n",
      "    \"tenantId\": \"72f988bf-86f1-41af-91ab-2d7cd011db47\",\n",
      "    \"user\": {\n",
      "      \"name\": \"masalvar@microsoft.com\",\n",
      "      \"type\": \"user\"\n",
      "    }\n",
      "  },\n",
      "  {\n",
      "    \"cloudName\": \"AzureCloud\",\n",
      "    \"id\": \"54e18c35-3863-4a17-8e52-b5aa1e65847e\",\n",
      "    \"isDefault\": false,\n",
      "    \"name\": \"Core-ES-BLD\",\n",
      "    \"state\": \"Enabled\",\n",
      "    \"tenantId\": \"72f988bf-86f1-41af-91ab-2d7cd011db47\",\n",
      "    \"user\": {\n",
      "      \"name\": \"masalvar@microsoft.com\",\n",
      "      \"type\": \"user\"\n",
      "    }\n",
      "  },\n",
      "  {\n",
      "    \"cloudName\": \"AzureCloud\",\n",
      "    \"id\": \"1abb567b-bfef-4fac-9574-f55db5b506b4\",\n",
      "    \"isDefault\": false,\n",
      "    \"name\": \"AzureCAT WWAHAIHoL\",\n",
      "    \"state\": \"Enabled\",\n",
      "    \"tenantId\": \"72f988bf-86f1-41af-91ab-2d7cd011db47\",\n",
      "    \"user\": {\n",
      "      \"name\": \"masalvar@microsoft.com\",\n",
      "      \"type\": \"user\"\n",
      "    }\n",
      "  },\n",
      "  {\n",
      "    \"cloudName\": \"AzureCloud\",\n",
      "    \"id\": \"10d0b7c6-9243-4713-91a9-2730375d3a1b\",\n",
      "    \"isDefault\": false,\n",
      "    \"name\": \"ASutton Subscription\",\n",
      "    \"state\": \"Enabled\",\n",
      "    \"tenantId\": \"72f988bf-86f1-41af-91ab-2d7cd011db47\",\n",
      "    \"user\": {\n",
      "      \"name\": \"masalvar@microsoft.com\",\n",
      "      \"type\": \"user\"\n",
      "    }\n",
      "  },\n",
      "  {\n",
      "    \"cloudName\": \"AzureCloud\",\n",
      "    \"id\": \"3bcfa59c-82a0-44f9-ac08-b3479370bace\",\n",
      "    \"isDefault\": false,\n",
      "    \"name\": \"Solution Template Testing\",\n",
      "    \"state\": \"Enabled\",\n",
      "    \"tenantId\": \"72f988bf-86f1-41af-91ab-2d7cd011db47\",\n",
      "    \"user\": {\n",
      "      \"name\": \"masalvar@microsoft.com\",\n",
      "      \"type\": \"user\"\n",
      "    }\n",
      "  },\n",
      "  {\n",
      "    \"cloudName\": \"AzureCloud\",\n",
      "    \"id\": \"ff18d7a8-962a-406c-858f-49acd23d6c01\",\n",
      "    \"isDefault\": false,\n",
      "    \"name\": \"Boston Team Ilan\",\n",
      "    \"state\": \"Enabled\",\n",
      "    \"tenantId\": \"72f988bf-86f1-41af-91ab-2d7cd011db47\",\n",
      "    \"user\": {\n",
      "      \"name\": \"masalvar@microsoft.com\",\n",
      "      \"type\": \"user\"\n",
      "    }\n",
      "  },\n",
      "  {\n",
      "    \"cloudName\": \"AzureCloud\",\n",
      "    \"id\": \"03909a66-bef8-4d52-8e9a-a346604e0902\",\n",
      "    \"isDefault\": false,\n",
      "    \"name\": \"Boston Team Tao\",\n",
      "    \"state\": \"Enabled\",\n",
      "    \"tenantId\": \"72f988bf-86f1-41af-91ab-2d7cd011db47\",\n",
      "    \"user\": {\n",
      "      \"name\": \"masalvar@microsoft.com\",\n",
      "      \"type\": \"user\"\n",
      "    }\n",
      "  }\n",
      "]\n"
     ]
    }
   ],
   "source": [
    "#Connect to your Azure Subscription\n",
    "!az login -o table"
   ]
  },
  {
   "cell_type": "code",
   "execution_count": 2,
   "metadata": {
    "tags": [
     "stripout"
    ]
   },
   "outputs": [],
   "source": [
    "!az account set --subscription \"Boston Team Danielle\""
   ]
  },
  {
   "cell_type": "code",
   "execution_count": 3,
   "metadata": {
    "tags": [
     "stripout"
    ]
   },
   "outputs": [
    {
     "name": "stdout",
     "output_type": "stream",
     "text": [
      "{\r\n",
      "  \"authorization\": {\r\n",
      "    \"applicationId\": \"0736f41a-0425-4b46-bdb5-1563eff02385\",\r\n",
      "    \"managedByRoleDefinitionId\": \"91d00862-cf55-46a5-9dce-260bbd92ce25\",\r\n",
      "    \"roleDefinitionId\": \"376aa7d7-51a9-463d-bd4d-7e1691345612\"\r\n",
      "  },\r\n",
      "  \"id\": \"/subscriptions/edf507a2-6235-46c5-b560-fd463ba2e771/providers/Microsoft.MachineLearningServices\",\r\n",
      "  \"namespace\": \"Microsoft.MachineLearningServices\",\r\n",
      "  \"registrationState\": \"Registered\",\r\n",
      "  \"resourceTypes\": [\r\n",
      "    {\r\n",
      "      \"aliases\": null,\r\n",
      "      \"apiVersions\": [\r\n",
      "        \"2018-03-01-preview\"\r\n",
      "      ],\r\n",
      "      \"capabilities\": \"SystemAssignedResourceIdentity\",\r\n",
      "      \"defaultApiVersion\": \"2018-03-01-preview\",\r\n",
      "      \"locations\": [\r\n",
      "        \"East US\",\r\n",
      "        \"Australia East\",\r\n",
      "        \"East US 2\",\r\n",
      "        \"West US 2\",\r\n",
      "        \"West Central US\",\r\n",
      "        \"Southeast Asia\",\r\n",
      "        \"West Europe\",\r\n",
      "        \"South Central US\",\r\n",
      "        \"East US 2 EUAP\"\r\n",
      "      ],\r\n",
      "      \"properties\": null,\r\n",
      "      \"resourceType\": \"workspaces\"\r\n",
      "    },\r\n",
      "    {\r\n",
      "      \"aliases\": null,\r\n",
      "      \"apiVersions\": [\r\n",
      "        \"2018-03-01-preview\"\r\n",
      "      ],\r\n",
      "      \"locations\": [\r\n",
      "        \"East US\",\r\n",
      "        \"Australia East\",\r\n",
      "        \"East US 2\",\r\n",
      "        \"West US 2\",\r\n",
      "        \"West Central US\",\r\n",
      "        \"Southeast Asia\",\r\n",
      "        \"West Europe\",\r\n",
      "        \"South Central US\",\r\n",
      "        \"East US 2 EUAP\"\r\n",
      "      ],\r\n",
      "      \"properties\": null,\r\n",
      "      \"resourceType\": \"workspaces/computes\"\r\n",
      "    },\r\n",
      "    {\r\n",
      "      \"aliases\": null,\r\n",
      "      \"apiVersions\": [\r\n",
      "        \"2018-03-01-preview\"\r\n",
      "      ],\r\n",
      "      \"locations\": [\r\n",
      "        \"East US 2\",\r\n",
      "        \"East US 2 EUAP\"\r\n",
      "      ],\r\n",
      "      \"properties\": null,\r\n",
      "      \"resourceType\": \"operations\"\r\n",
      "    },\r\n",
      "    {\r\n",
      "      \"aliases\": null,\r\n",
      "      \"apiVersions\": [\r\n",
      "        \"2018-03-01-preview\"\r\n",
      "      ],\r\n",
      "      \"locations\": [\r\n",
      "        \"East US 2\",\r\n",
      "        \"East US 2 EUAP\"\r\n",
      "      ],\r\n",
      "      \"properties\": null,\r\n",
      "      \"resourceType\": \"locations\"\r\n",
      "    },\r\n",
      "    {\r\n",
      "      \"aliases\": null,\r\n",
      "      \"apiVersions\": [\r\n",
      "        \"2018-03-01-preview\"\r\n",
      "      ],\r\n",
      "      \"locations\": [\r\n",
      "        \"East US\",\r\n",
      "        \"Australia East\",\r\n",
      "        \"East US 2\",\r\n",
      "        \"West US 2\",\r\n",
      "        \"West Central US\",\r\n",
      "        \"Southeast Asia\",\r\n",
      "        \"West Europe\",\r\n",
      "        \"South Central US\",\r\n",
      "        \"East US 2 EUAP\"\r\n",
      "      ],\r\n",
      "      \"properties\": null,\r\n",
      "      \"resourceType\": \"locations/computeOperationsStatus\"\r\n",
      "    },\r\n",
      "    {\r\n",
      "      \"aliases\": null,\r\n",
      "      \"apiVersions\": [\r\n",
      "        \"2018-03-01-preview\"\r\n",
      "      ],\r\n",
      "      \"locations\": [\r\n",
      "        \"East US\",\r\n",
      "        \"Australia East\",\r\n",
      "        \"East US 2\",\r\n",
      "        \"West US 2\",\r\n",
      "        \"West Central US\",\r\n",
      "        \"Southeast Asia\",\r\n",
      "        \"West Europe\",\r\n",
      "        \"South Central US\",\r\n",
      "        \"East US 2 EUAP\"\r\n",
      "      ],\r\n",
      "      \"properties\": null,\r\n",
      "      \"resourceType\": \"locations/workspaceOperationsStatus\"\r\n",
      "    }\r\n",
      "  ]\r\n",
      "}\r\n"
     ]
    }
   ],
   "source": [
    "# register the new RP\n",
    "!az provider register -n Microsoft.MachineLearningServices\n",
    "\n",
    "# check the registration status\n",
    "!az provider show -n Microsoft.MachineLearningServices"
   ]
  },
  {
   "cell_type": "code",
   "execution_count": 4,
   "metadata": {},
   "outputs": [
    {
     "name": "stdout",
     "output_type": "stream",
     "text": [
      "SDK Version: 0.1.68\n"
     ]
    }
   ],
   "source": [
    "import azureml.core\n",
    "from azureml.core import Workspace\n",
    "\n",
    "print(\"SDK Version:\", azureml.core.VERSION)"
   ]
  },
  {
   "cell_type": "code",
   "execution_count": 7,
   "metadata": {},
   "outputs": [],
   "source": [
    "#Initialize an Azure ML Workspace\n",
    "subscription_id = \"edf507a2-6235-46c5-b560-fd463ba2e771\"\n",
    "resource_group = \"amlakspytorchrg\"\n",
    "workspace_name = \"pytorch_workspace\"\n",
    "workspace_region = \"eastus2\" # or eastus2euap"
   ]
  },
  {
   "cell_type": "code",
   "execution_count": 11,
   "metadata": {
    "tags": [
     "stripout"
    ]
   },
   "outputs": [
    {
     "name": "stderr",
     "output_type": "stream",
     "text": [
      "UserWarning: The resource group doesn't exist or was not provided. AzureML SDK is creating a resource group=amlakspytorchrg in location=eastus2 using subscription=edf507a2-6235-46c5-b560-fd463ba2e771.\n"
     ]
    },
    {
     "name": "stdout",
     "output_type": "stream",
     "text": [
      "Wrote the config file config.json to: /home/mat/repos/AKSDeploymentTutorial_AML/Pytorch/aml_config/config.json\n"
     ]
    }
   ],
   "source": [
    "ws = Workspace.create(\n",
    "        name=workspace_name,\n",
    "        subscription_id=subscription_id,\n",
    "        resource_group=resource_group,\n",
    "        location=workspace_region,\n",
    "        create_resource_group=True,\n",
    "        exist_ok=True,\n",
    "    )\n",
    "\n",
    "\n",
    "# persist the subscription id, resource group name, and workspace name in aml_config/config.json.\n",
    "ws.write_config()"
   ]
  },
  {
   "cell_type": "markdown",
   "metadata": {},
   "source": [
    "Below we will reload it just to make sure that everything is working"
   ]
  },
  {
   "cell_type": "code",
   "execution_count": 12,
   "metadata": {
    "tags": [
     "stripout"
    ]
   },
   "outputs": [
    {
     "name": "stdout",
     "output_type": "stream",
     "text": [
      "Found the config file in: /home/mat/repos/AKSDeploymentTutorial_AML/Pytorch/aml_config/config.json\n"
     ]
    },
    {
     "data": {
      "text/plain": [
       "{'id': '/subscriptions/edf507a2-6235-46c5-b560-fd463ba2e771/resourceGroups/amlakspytorchrg/providers/Microsoft.MachineLearningServices/workspaces/pytorch_workspace',\n",
       " 'name': 'pytorch_workspace',\n",
       " 'location': 'eastus2',\n",
       " 'type': 'Microsoft.MachineLearningServices/workspaces',\n",
       " 'description': '',\n",
       " 'friendlyName': 'pytorch_workspace',\n",
       " 'containerRegistry': '/subscriptions/edf507a2-6235-46c5-b560-fd463ba2e771/resourcegroups/amlakspytorchrg/providers/microsoft.containerregistry/registries/pytorchwacrrmwuvfch',\n",
       " 'keyVault': '/subscriptions/edf507a2-6235-46c5-b560-fd463ba2e771/resourcegroups/amlakspytorchrg/providers/microsoft.keyvault/vaults/pytorchwkeyvaultgzktbsnx',\n",
       " 'applicationInsights': '/subscriptions/edf507a2-6235-46c5-b560-fd463ba2e771/resourcegroups/amlakspytorchrg/providers/microsoft.insights/components/pytorchwinsightslwbyjuau',\n",
       " 'batchaiWorkspace': '/subscriptions/edf507a2-6235-46c5-b560-fd463ba2e771/resourcegroups/amlakspytorchrg/providers/microsoft.batchai/workspaces/pytorchwbatchai_vpummweo',\n",
       " 'identityPrincipalId': '0fb2419c-7e1f-405c-8db4-bb3171a7ce27',\n",
       " 'identityTenantId': '72f988bf-86f1-41af-91ab-2d7cd011db47',\n",
       " 'identityType': 'SystemAssigned',\n",
       " 'storageAccount': '/subscriptions/edf507a2-6235-46c5-b560-fd463ba2e771/resourcegroups/amlakspytorchrg/providers/microsoft.storage/storageaccounts/pytorchwstorageegstlokv'}"
      ]
     },
     "execution_count": 12,
     "metadata": {},
     "output_type": "execute_result"
    }
   ],
   "source": [
    "my_workspace = Workspace.from_config()\n",
    "my_workspace.get_details()"
   ]
  }
 ],
 "metadata": {
  "celltoolbar": "Tags",
  "kernelspec": {
   "display_name": "Python 3",
   "language": "python",
   "name": "python3"
  },
  "language_info": {
   "codemirror_mode": {
    "name": "ipython",
    "version": 3
   },
   "file_extension": ".py",
   "mimetype": "text/x-python",
   "name": "python",
   "nbconvert_exporter": "python",
   "pygments_lexer": "ipython3",
   "version": "3.6.6"
  }
 },
 "nbformat": 4,
 "nbformat_minor": 2
}
