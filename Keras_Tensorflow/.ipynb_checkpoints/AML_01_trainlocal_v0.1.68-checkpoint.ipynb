{
 "cells": [
  {
   "cell_type": "markdown",
   "metadata": {},
   "source": [
    "# Test Pretrained Model in a Seperate Conda Environment from Local Host\n",
    "\n",
    "Objective:\n",
    "- Produce yml file that to be used to create docker image\n",
    "- Test the pretrained model in the conda envionment generated from this yml file"
   ]
  },
  {
   "cell_type": "code",
   "execution_count": null,
   "metadata": {},
   "outputs": [],
   "source": [
    "import os\n",
    "import azureml.core\n",
    "from azureml.core.workspace import Workspace\n",
    "from azureml.core import Experiment\n",
    "from azureml.core import ScriptRunConfig"
   ]
  },
  {
   "cell_type": "code",
   "execution_count": null,
   "metadata": {},
   "outputs": [],
   "source": [
    "# Check core SDK version number\n",
    "print(\"SDK version:\", azureml.core.VERSION)"
   ]
  },
  {
   "cell_type": "code",
   "execution_count": null,
   "metadata": {},
   "outputs": [],
   "source": [
    "# define variables\n",
    "experiment_name = 'train-on-local'\n",
    "env_name = 'myenv.yml'\n",
    "sample_projects_folder = os.path.join(os.getcwd(),'sample_projects')\n",
    "project_folder = os.path.join(sample_projects, 'train-on-local')\n",
    "script_name = 'predict.py'\n",
    "script_path = os.path.join(project_folder, script_name)\n",
    "deploy_folder = os.path.join(os.getcwd(), 'deploy')\n",
    "\n",
    "os.makedirs(project_folder, exist_ok=True)\n",
    "print('Sample projects will be created in {}.'.format(sample_projects_folder))\n",
    "\n",
    "os.makedirs(deploy_folder, exist_ok=True)"
   ]
  },
  {
   "cell_type": "code",
   "execution_count": null,
   "metadata": {},
   "outputs": [],
   "source": [
    "ws = Workspace.from_config()\n",
    "print(ws.name, ws.resource_group, ws.location, ws.subscription_id, sep = '\\n')"
   ]
  },
  {
   "cell_type": "code",
   "execution_count": null,
   "metadata": {},
   "outputs": [],
   "source": [
    "# create an azureml experiment\n",
    "exp = Experiment(workspace=ws, name=experiment_name)"
   ]
  },
  {
   "cell_type": "code",
   "execution_count": null,
   "metadata": {},
   "outputs": [],
   "source": [
    "%%writefile $script_path\n",
    "\n",
    "#Develop the model\n",
    "import tensorflow as tf\n",
    "import keras\n",
    "from resnet152 import ResNet152\n",
    "from keras.preprocessing import image\n",
    "from keras.applications.imagenet_utils import preprocess_input, decode_predictions\n",
    "import numpy as np\n",
    "from PIL import Image\n",
    "import wget\n",
    "\n",
    "model = ResNet152(weights='imagenet')\n",
    "\n",
    "#model.summary( )\n",
    "\n",
    "wget.download('https://upload.wikimedia.org/wikipedia/commons/thumb/6/68/Lynx_lynx_poing.jpg/220px-Lynx_lynx_poing.jpg')\n",
    "\n",
    "img_path = '220px-Lynx_lynx_poing.jpg'\n",
    "#print(Image.open(img_path).size)\n",
    "Image.open(img_path)\n",
    "\n",
    "img = image.load_img(img_path, target_size=(224, 224))\n",
    "img = image.img_to_array(img)\n",
    "img = np.expand_dims(img, axis=0)\n",
    "img = preprocess_input(img)\n",
    "\n",
    "preds = model.predict(img)\n",
    "print('Predicted:', decode_predictions(preds, top=3))"
   ]
  },
  {
   "cell_type": "markdown",
   "metadata": {},
   "source": [
    "## Create environment yml file"
   ]
  },
  {
   "cell_type": "code",
   "execution_count": null,
   "metadata": {},
   "outputs": [],
   "source": [
    "# System managed runs\n",
    "from azureml.core.runconfig import RunConfiguration\n",
    "from azureml.core.conda_dependencies import CondaDependencies\n",
    "\n",
    "# Editing a run configuration property on-fly.\n",
    "#run_config = RunConfiguration.load(project_object = project, run_config_name = \"local\")\n",
    "run_config_system_managed = RunConfiguration()\n",
    "\n",
    "# Use a new conda environment that is to be created from the conda_dependencies.yml file\n",
    "#run_config.environment.python.user_managed_dependencies = False\n",
    "\n",
    "# Automatically create the conda environment before the run\n",
    "#run_config.prepare_environment = True\n",
    "\n",
    "run_config_system_managed.environment.python.user_managed_dependencies = False\n",
    "run_config_system_managed.auto_prepare_environment = True\n",
    "\n",
    "# add scikit-learn to the conda_dependencies.yml file\n",
    "cd = CondaDependencies()\n",
    "cd.add_conda_package('scikit-learn')\n",
    "cd.add_conda_package('python=3.6')\n",
    "cd.add_conda_package('tensorflow')\n",
    "cd.add_conda_package('tornado==4.5.3')\n",
    "\n",
    "cd.add_pip_package('papermill==0.14.1')\n",
    "cd.add_pip_package('python-dotenv==0.9.0')\n",
    "cd.add_pip_package('Pillow==5.2.0')\n",
    "cd.add_pip_package('wget==3.2')\n",
    "cd.add_pip_package('aiohttp==3.3.2')\n",
    "cd.add_pip_package('toolz==0.9.0')\n",
    "cd.add_pip_package('tqdm==4.23.4')\n",
    "cd.add_pip_package('azure-cli==2.0.41')\n",
    "#cd.add_pip_package('tensorflow')\n",
    "cd.add_pip_package('keras==2.2.0')\n",
    "\n",
    "#cd.save_to_file(project_dir = project_folder, conda_file_path = run_config.environment.python.conda_dependencies_file)\n",
    "\n",
    "run_config_system_managed.environment.python.conda_dependencies = cd"
   ]
  },
  {
   "cell_type": "code",
   "execution_count": null,
   "metadata": {},
   "outputs": [],
   "source": [
    "# produce the yml file for delpoying to AKS cluster\n",
    "with open(os.path.join(deploy_folder, env_name),\"w\") as f:\n",
    "    f.write(cd.serialize_to_string())"
   ]
  },
  {
   "cell_type": "markdown",
   "metadata": {},
   "source": [
    "## System managed runs\n",
    "The objective is to test the script in a conda environment configured using the yml file."
   ]
  },
  {
   "cell_type": "code",
   "execution_count": null,
   "metadata": {},
   "outputs": [],
   "source": [
    "src = ScriptRunConfig(source_directory=project_folder, script=script_name, run_config=run_config_system_managed)\n",
    "run = exp.submit(src)\n",
    "run.wait_for_completion(show_output = True)"
   ]
  },
  {
   "cell_type": "code",
   "execution_count": null,
   "metadata": {},
   "outputs": [],
   "source": [
    "run"
   ]
  }
 ],
 "metadata": {
  "kernelspec": {
   "display_name": "Python 3",
   "language": "python",
   "name": "python3"
  },
  "language_info": {
   "codemirror_mode": {
    "name": "ipython",
    "version": 3
   },
   "file_extension": ".py",
   "mimetype": "text/x-python",
   "name": "python",
   "nbconvert_exporter": "python",
   "pygments_lexer": "ipython3",
   "version": "3.6.6"
  }
 },
 "nbformat": 4,
 "nbformat_minor": 2
}
