{
 "cells": [
  {
   "cell_type": "markdown",
   "metadata": {},
   "source": [
    "## Installation and configuration¶\n",
    "\n",
    "This notebook configures the notebooks in this tutorial to connect to an Azure Machine Learning (AML) Workspace. You can use an existing workspace or create a new one."
   ]
  },
  {
   "cell_type": "code",
   "execution_count": 4,
   "metadata": {},
   "outputs": [],
   "source": [
    "import azureml.core\n",
    "from azureml.core import Workspace\n",
    "from dotenv import set_key, get_key, find_dotenv\n",
    "from pathlib import Path"
   ]
  },
  {
   "cell_type": "markdown",
   "metadata": {},
   "source": [
    "## Prerequisites\n",
    "\n",
    "If you have already completed the prerequisites and selected the correct Kernel for this notebook, the AML Python SDK is already installed. Let's check the AML SDK version."
   ]
  },
  {
   "cell_type": "code",
   "execution_count": 5,
   "metadata": {
    "tags": [
     "stripoutput"
    ]
   },
   "outputs": [
    {
     "name": "stdout",
     "output_type": "stream",
     "text": [
      "SDK Version: 1.0.2\n"
     ]
    }
   ],
   "source": [
    "print(\"SDK Version:\", azureml.core.VERSION)"
   ]
  },
  {
   "cell_type": "code",
   "execution_count": null,
   "metadata": {
    "tags": [
     "stripoutput"
    ]
   },
   "outputs": [],
   "source": [
    "# how to upgrade AML?\n",
    "# !pip install --upgrade azureml-sdk[notebooks,automl]"
   ]
  },
  {
   "cell_type": "code",
   "execution_count": 1,
   "metadata": {},
   "outputs": [
    {
     "name": "stdout",
     "output_type": "stream",
     "text": [
      "\u001b[33mTo sign in, use a web browser to open the page https://microsoft.com/devicelogin and enter the code AXTQDGVM3 to authenticate.\u001b[0m\n",
      "CloudName    IsDefault    Name                                          State     TenantId\n",
      "-----------  -----------  --------------------------------------------  --------  ------------------------------------\n",
      "AzureCloud   False        Solution Template Testing                     Enabled   72f988bf-86f1-41af-91ab-2d7cd011db47\n",
      "AzureCloud   True         Boston Team Danielle                          Enabled   72f988bf-86f1-41af-91ab-2d7cd011db47\n",
      "AzureCloud   False        ADS Demo Subscription                         Enabled   72f988bf-86f1-41af-91ab-2d7cd011db47\n",
      "AzureCloud   False        Energy Solution Accelerator                   Disabled  72f988bf-86f1-41af-91ab-2d7cd011db47\n",
      "AzureCloud   False        Cosmos_WDG_Core_BnB_100348                    Enabled   72f988bf-86f1-41af-91ab-2d7cd011db47\n",
      "AzureCloud   False        Agile-BI-Azure-Subscription-2                 Enabled   72f988bf-86f1-41af-91ab-2d7cd011db47\n",
      "AzureCloud   False        Visual Studio Enterprise                      Enabled   72f988bf-86f1-41af-91ab-2d7cd011db47\n",
      "AzureCloud   False        ACR-PROD(Converted to EA)                     Enabled   72f988bf-86f1-41af-91ab-2d7cd011db47\n",
      "AzureCloud   False        Azure Cat E2E                                 Enabled   72f988bf-86f1-41af-91ab-2d7cd011db47\n",
      "AzureCloud   False        CAT_Eng                                       Enabled   72f988bf-86f1-41af-91ab-2d7cd011db47\n",
      "AzureCloud   False        Core-ES-WM-Ext                                Enabled   72f988bf-86f1-41af-91ab-2d7cd011db47\n",
      "AzureCloud   False        Core-ES-BLD                                   Enabled   72f988bf-86f1-41af-91ab-2d7cd011db47\n",
      "AzureCloud   False        Boston Team Ilan                              Enabled   72f988bf-86f1-41af-91ab-2d7cd011db47\n",
      "AzureCloud   False        AG-AzureCAT-AITao-Test-COGSNonProd-IO1685743  Enabled   72f988bf-86f1-41af-91ab-2d7cd011db47\n",
      "AzureCloud   False        ADS Dev Dashboard                             Disabled  72f988bf-86f1-41af-91ab-2d7cd011db47\n",
      "AzureCloud   False        ADS Metrics                                   Enabled   72f988bf-86f1-41af-91ab-2d7cd011db47\n"
     ]
    }
   ],
   "source": [
    "#Connect to your Azure Subscription\n",
    "#!az login -o table\n",
    "!az login --use-device-code -o table"
   ]
  },
  {
   "cell_type": "code",
   "execution_count": 6,
   "metadata": {},
   "outputs": [],
   "source": [
    "!az account set --subscription \"edf507a2-6235-46c5-b560-fd463ba2e771\""
   ]
  },
  {
   "cell_type": "code",
   "execution_count": 7,
   "metadata": {
    "tags": [
     "stripout"
    ]
   },
   "outputs": [
    {
     "name": "stdout",
     "output_type": "stream",
     "text": [
      "{\r\n",
      "  \"authorization\": {\r\n",
      "    \"applicationId\": \"0736f41a-0425-4b46-bdb5-1563eff02385\",\r\n",
      "    \"managedByRoleDefinitionId\": \"91d00862-cf55-46a5-9dce-260bbd92ce25\",\r\n",
      "    \"roleDefinitionId\": \"376aa7d7-51a9-463d-bd4d-7e1691345612\"\r\n",
      "  },\r\n",
      "  \"id\": \"/subscriptions/edf507a2-6235-46c5-b560-fd463ba2e771/providers/Microsoft.MachineLearningServices\",\r\n",
      "  \"namespace\": \"Microsoft.MachineLearningServices\",\r\n",
      "  \"registrationState\": \"Registered\",\r\n",
      "  \"resourceTypes\": [\r\n",
      "    {\r\n",
      "      \"aliases\": null,\r\n",
      "      \"apiVersions\": [\r\n",
      "        \"2018-11-19\",\r\n",
      "        \"2018-03-01-preview\"\r\n",
      "      ],\r\n",
      "      \"capabilities\": \"SystemAssignedResourceIdentity\",\r\n",
      "      \"defaultApiVersion\": \"2018-03-01-preview\",\r\n",
      "      \"locations\": [\r\n",
      "        \"East US\",\r\n",
      "        \"Australia East\",\r\n",
      "        \"East US 2\",\r\n",
      "        \"West US 2\",\r\n",
      "        \"West Central US\",\r\n",
      "        \"Southeast Asia\",\r\n",
      "        \"West Europe\",\r\n",
      "        \"South Central US\",\r\n",
      "        \"East US 2 EUAP\"\r\n",
      "      ],\r\n",
      "      \"properties\": null,\r\n",
      "      \"resourceType\": \"workspaces\"\r\n",
      "    },\r\n",
      "    {\r\n",
      "      \"aliases\": null,\r\n",
      "      \"apiVersions\": [\r\n",
      "        \"2018-11-19\",\r\n",
      "        \"2018-03-01-preview\"\r\n",
      "      ],\r\n",
      "      \"locations\": [\r\n",
      "        \"East US\",\r\n",
      "        \"Australia East\",\r\n",
      "        \"East US 2\",\r\n",
      "        \"West US 2\",\r\n",
      "        \"West Central US\",\r\n",
      "        \"Southeast Asia\",\r\n",
      "        \"West Europe\",\r\n",
      "        \"South Central US\",\r\n",
      "        \"East US 2 EUAP\"\r\n",
      "      ],\r\n",
      "      \"properties\": null,\r\n",
      "      \"resourceType\": \"workspaces/computes\"\r\n",
      "    },\r\n",
      "    {\r\n",
      "      \"aliases\": null,\r\n",
      "      \"apiVersions\": [\r\n",
      "        \"2018-11-19\",\r\n",
      "        \"2018-03-01-preview\"\r\n",
      "      ],\r\n",
      "      \"locations\": [\r\n",
      "        \"East US 2\",\r\n",
      "        \"East US 2 EUAP\"\r\n",
      "      ],\r\n",
      "      \"properties\": null,\r\n",
      "      \"resourceType\": \"operations\"\r\n",
      "    },\r\n",
      "    {\r\n",
      "      \"aliases\": null,\r\n",
      "      \"apiVersions\": [\r\n",
      "        \"2018-11-19\",\r\n",
      "        \"2018-03-01-preview\"\r\n",
      "      ],\r\n",
      "      \"locations\": [\r\n",
      "        \"East US 2\",\r\n",
      "        \"East US 2 EUAP\"\r\n",
      "      ],\r\n",
      "      \"properties\": null,\r\n",
      "      \"resourceType\": \"locations\"\r\n",
      "    },\r\n",
      "    {\r\n",
      "      \"aliases\": null,\r\n",
      "      \"apiVersions\": [\r\n",
      "        \"2018-11-19\",\r\n",
      "        \"2018-03-01-preview\"\r\n",
      "      ],\r\n",
      "      \"locations\": [\r\n",
      "        \"East US\",\r\n",
      "        \"Australia East\",\r\n",
      "        \"East US 2\",\r\n",
      "        \"West US 2\",\r\n",
      "        \"West Central US\",\r\n",
      "        \"Southeast Asia\",\r\n",
      "        \"West Europe\",\r\n",
      "        \"South Central US\",\r\n",
      "        \"East US 2 EUAP\"\r\n",
      "      ],\r\n",
      "      \"properties\": null,\r\n",
      "      \"resourceType\": \"locations/computeOperationsStatus\"\r\n",
      "    },\r\n",
      "    {\r\n",
      "      \"aliases\": null,\r\n",
      "      \"apiVersions\": [\r\n",
      "        \"2018-11-19\",\r\n",
      "        \"2018-03-01-preview\"\r\n",
      "      ],\r\n",
      "      \"locations\": [\r\n",
      "        \"East US\",\r\n",
      "        \"Australia East\",\r\n",
      "        \"East US 2\",\r\n",
      "        \"West US 2\",\r\n",
      "        \"West Central US\",\r\n",
      "        \"Southeast Asia\",\r\n",
      "        \"West Europe\",\r\n",
      "        \"South Central US\",\r\n",
      "        \"East US 2 EUAP\"\r\n",
      "      ],\r\n",
      "      \"properties\": null,\r\n",
      "      \"resourceType\": \"locations/workspaceOperationsStatus\"\r\n",
      "    },\r\n",
      "    {\r\n",
      "      \"aliases\": null,\r\n",
      "      \"apiVersions\": [\r\n",
      "        \"2018-11-19\"\r\n",
      "      ],\r\n",
      "      \"locations\": [\r\n",
      "        \"East US\",\r\n",
      "        \"Australia East\",\r\n",
      "        \"East US 2\",\r\n",
      "        \"West US 2\",\r\n",
      "        \"West Central US\",\r\n",
      "        \"Southeast Asia\",\r\n",
      "        \"West Europe\",\r\n",
      "        \"South Central US\",\r\n",
      "        \"East US 2 EUAP\"\r\n",
      "      ],\r\n",
      "      \"properties\": null,\r\n",
      "      \"resourceType\": \"locations/usages\"\r\n",
      "    },\r\n",
      "    {\r\n",
      "      \"aliases\": null,\r\n",
      "      \"apiVersions\": [\r\n",
      "        \"2018-11-19\"\r\n",
      "      ],\r\n",
      "      \"locations\": [\r\n",
      "        \"East US\",\r\n",
      "        \"Australia East\",\r\n",
      "        \"East US 2\",\r\n",
      "        \"West US 2\",\r\n",
      "        \"West Central US\",\r\n",
      "        \"Southeast Asia\",\r\n",
      "        \"West Europe\",\r\n",
      "        \"South Central US\",\r\n",
      "        \"East US 2 EUAP\"\r\n",
      "      ],\r\n",
      "      \"properties\": null,\r\n",
      "      \"resourceType\": \"locations/vmsizes\"\r\n",
      "    }\r\n",
      "  ]\r\n",
      "}\r\n"
     ]
    }
   ],
   "source": [
    "# register the new RP\n",
    "!az provider register -n Microsoft.MachineLearningServices\n",
    "\n",
    "# check the registration status\n",
    "!az provider show -n Microsoft.MachineLearningServices"
   ]
  },
  {
   "cell_type": "code",
   "execution_count": null,
   "metadata": {},
   "outputs": [],
   "source": [
    "subscription_id ='<YOUR_SUBSCRIPTION_ID>'\n",
    "resource_group ='<YOUR_RESOURCE_GROUP>'\n",
    "workspace_name = '<YOUR_WORKSPACE_NAME>'\n",
    "workspace_region ='<YOUR_WORKSPACE_REGION>"
   ]
  },
  {
   "cell_type": "markdown",
   "metadata": {},
   "source": [
    "Create and initialize a dotenv file for storing parameters used in multiple notebooks."
   ]
  },
  {
   "cell_type": "code",
   "execution_count": 25,
   "metadata": {},
   "outputs": [],
   "source": [
    "env_path = find_dotenv()\n",
    "if env_path == \"\":\n",
    "    Path(\".env\").touch()\n",
    "    env_path = find_dotenv()"
   ]
  },
  {
   "cell_type": "code",
   "execution_count": 26,
   "metadata": {},
   "outputs": [
    {
     "data": {
      "text/plain": [
       "(True, 'workspace_region', 'eastus2')"
      ]
     },
     "execution_count": 26,
     "metadata": {},
     "output_type": "execute_result"
    }
   ],
   "source": [
    "set_key(env_path, 'subscription_id', subscription_id) # Replace YOUR_AZURE_SUBSCRIPTION\n",
    "set_key(env_path, 'resource_group', resource_group)\n",
    "set_key(env_path, 'workspace_name', workspace_name)\n",
    "set_key(env_path, 'workspace_region', workspace_region)"
   ]
  },
  {
   "cell_type": "markdown",
   "metadata": {},
   "source": [
    "## Create the workspace\n",
    "This cell will create an AML workspace for you in a subscription, provided you have the correct permissions.\n",
    "This will fail when:\n",
    "\n",
    "1. You do not have permission to create a workspace in the resource group\n",
    "2. You do not have permission to create a resource group if it's non-existing.\n",
    "3. You are not a subscription owner or contributor and no Azure ML workspaces have ever been created in this subscription\n",
    "\n",
    "If workspace creation fails, please work with your IT admin to provide you with the appropriate permissions or to provision the required resources. If this cell succeeds, you're done configuring AML!"
   ]
  },
  {
   "cell_type": "code",
   "execution_count": null,
   "metadata": {},
   "outputs": [],
   "source": [
    "# import the Workspace class and check the azureml SDK version\n",
    "#from azureml.core import Workspace\n",
    "\n",
    "ws = Workspace.create(name = workspace_name,\n",
    "                      subscription_id = subscription_id,\n",
    "                      resource_group = resource_group, \n",
    "                      location = workspace_region,\n",
    "                      create_resource_group=True,\n",
    "                      exist_ok=True)\n",
    "# persist the subscription id, resource group name, and workspace name in aml_config/config.json.\n",
    "ws.write_config()"
   ]
  },
  {
   "cell_type": "markdown",
   "metadata": {},
   "source": [
    "Below we will reload it just to make sure that everything is working."
   ]
  },
  {
   "cell_type": "code",
   "execution_count": 5,
   "metadata": {
    "tags": [
     "stripout"
    ]
   },
   "outputs": [
    {
     "name": "stdout",
     "output_type": "stream",
     "text": [
      "Found the config file in: /workspace/Keras_Tensorflow/aml_config/config.json\n"
     ]
    },
    {
     "data": {
      "text/plain": [
       "{'id': '/subscriptions/edf507a2-6235-46c5-b560-fd463ba2e771/resourceGroups/yanzamlworkspace/providers/Microsoft.MachineLearningServices/workspaces/yanzamlworkspace',\n",
       " 'name': 'yanzamlworkspace',\n",
       " 'location': 'eastus2',\n",
       " 'type': 'Microsoft.MachineLearningServices/workspaces',\n",
       " 'workspaceid': '7eac6448-0351-4bc4-8e26-22611fa1fd00',\n",
       " 'description': '',\n",
       " 'friendlyName': 'yanzamlworkspace',\n",
       " 'creationTime': '2018-11-27T14:29:41.2875058+00:00',\n",
       " 'containerRegistry': '/subscriptions/edf507a2-6235-46c5-b560-fd463ba2e771/resourcegroups/yanzamlworkspace/providers/microsoft.containerregistry/registries/yanzamlwacrzllyuzdj',\n",
       " 'keyVault': '/subscriptions/edf507a2-6235-46c5-b560-fd463ba2e771/resourcegroups/yanzamlworkspace/providers/microsoft.keyvault/vaults/yanzamlwkeyvaultaxqeyibo',\n",
       " 'applicationInsights': '/subscriptions/edf507a2-6235-46c5-b560-fd463ba2e771/resourcegroups/yanzamlworkspace/providers/microsoft.insights/components/yanzamlwinsightsjotvcvib',\n",
       " 'batchaiWorkspace': '/subscriptions/edf507a2-6235-46c5-b560-fd463ba2e771/resourceGroups/yanzamlworkspace/providers/Microsoft.BatchAI/workspaces/yanzamlworkspace',\n",
       " 'identityPrincipalId': 'a6041784-6aeb-4404-a289-2a53dd4f39b9',\n",
       " 'identityTenantId': '72f988bf-86f1-41af-91ab-2d7cd011db47',\n",
       " 'identityType': 'SystemAssigned',\n",
       " 'storageAccount': '/subscriptions/edf507a2-6235-46c5-b560-fd463ba2e771/resourcegroups/yanzamlworkspace/providers/microsoft.storage/storageaccounts/yanzamlwstorageyotvwlmq'}"
      ]
     },
     "execution_count": 5,
     "metadata": {},
     "output_type": "execute_result"
    }
   ],
   "source": [
    "# load workspace configuratio from ./aml_config/config.json file.ß\n",
    "my_workspace = Workspace.from_config()\n",
    "my_workspace.get_details()"
   ]
  }
 ],
 "metadata": {
  "celltoolbar": "Tags",
  "kernelspec": {
   "display_name": "Python 3",
   "language": "python",
   "name": "python3"
  },
  "language_info": {
   "codemirror_mode": {
    "name": "ipython",
    "version": 3
   },
   "file_extension": ".py",
   "mimetype": "text/x-python",
   "name": "python",
   "nbconvert_exporter": "python",
   "pygments_lexer": "ipython3",
   "version": "3.6.7"
  }
 },
 "nbformat": 4,
 "nbformat_minor": 2
}
