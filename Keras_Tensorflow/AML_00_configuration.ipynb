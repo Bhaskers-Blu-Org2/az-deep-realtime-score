{
 "cells": [
  {
   "cell_type": "markdown",
   "metadata": {},
   "source": [
    "# Do the pre-req setup\n",
    "https://github.com/Azure/ViennaDocs/blob/master/PrivatePreview/notebooks/00.configuration.ipynb"
   ]
  },
  {
   "cell_type": "code",
   "execution_count": 1,
   "metadata": {},
   "outputs": [
    {
     "name": "stdout",
     "output_type": "stream",
     "text": [
      "\u001b[33mThe behavior of this command has been altered by the following extension: azure-ml-admin-cli\u001b[0m\n",
      "\u001b[33mNote, we have launched a browser for you to login. For old experience with device code, use \"az login --use-device-code\"\u001b[0m\n",
      "\u001b[33mYou have logged in. Now let us find all the subscriptions to which you have access...\u001b[0m\n",
      "\u001b[33mFailed to authenticate '{'additional_properties': {}, 'id': '/tenants/4f04fe57-837f-4b9d-9767-b066e63799b9', 'tenant_id': '4f04fe57-837f-4b9d-9767-b066e63799b9'}' due to error 'Get Token request returned http error: 400 and server response: {\"error\":\"interaction_required\",\"error_description\":\"AADSTS53003: Blocked by conditional access.\\r\\nTrace ID: b66b6ef7-8880-4995-b6cf-230977551c01\\r\\nCorrelation ID: 9b73e54e-9042-47b1-b399-3c27f0b1afe5\\r\\nTimestamp: 2018-08-31 17:52:17Z\",\"error_codes\":[53003],\"timestamp\":\"2018-08-31 17:52:17Z\",\"trace_id\":\"b66b6ef7-8880-4995-b6cf-230977551c01\",\"correlation_id\":\"9b73e54e-9042-47b1-b399-3c27f0b1afe5\",\"suberror\":\"message_only\"}'\u001b[0m\n",
      "[\n",
      "  {\n",
      "    \"cloudName\": \"AzureCloud\",\n",
      "    \"id\": \"0ca618d2-22a8-413a-96d0-0f1b531129c3\",\n",
      "    \"isDefault\": false,\n",
      "    \"name\": \"Boston DS Dev\",\n",
      "    \"state\": \"Enabled\",\n",
      "    \"tenantId\": \"72f988bf-86f1-41af-91ab-2d7cd011db47\",\n",
      "    \"user\": {\n",
      "      \"name\": \"jaymathe@microsoft.com\",\n",
      "      \"type\": \"user\"\n",
      "    }\n",
      "  },\n",
      "  {\n",
      "    \"cloudName\": \"AzureCloud\",\n",
      "    \"id\": \"edf507a2-6235-46c5-b560-fd463ba2e771\",\n",
      "    \"isDefault\": true,\n",
      "    \"name\": \"Team Danielle Internal\",\n",
      "    \"state\": \"Enabled\",\n",
      "    \"tenantId\": \"72f988bf-86f1-41af-91ab-2d7cd011db47\",\n",
      "    \"user\": {\n",
      "      \"name\": \"jaymathe@microsoft.com\",\n",
      "      \"type\": \"user\"\n",
      "    }\n",
      "  },\n",
      "  {\n",
      "    \"cloudName\": \"AzureCloud\",\n",
      "    \"id\": \"ff18d7a8-962a-406c-858f-49acd23d6c01\",\n",
      "    \"isDefault\": false,\n",
      "    \"name\": \"Team Ilan\",\n",
      "    \"state\": \"Enabled\",\n",
      "    \"tenantId\": \"72f988bf-86f1-41af-91ab-2d7cd011db47\",\n",
      "    \"user\": {\n",
      "      \"name\": \"jaymathe@microsoft.com\",\n",
      "      \"type\": \"user\"\n",
      "    }\n",
      "  },\n",
      "  {\n",
      "    \"cloudName\": \"AzureCloud\",\n",
      "    \"id\": \"a8183b2d-7a4c-45e9-8736-dac11b84ff14\",\n",
      "    \"isDefault\": false,\n",
      "    \"name\": \"Azure Stack Diagnostics CI and Production VaaS\",\n",
      "    \"state\": \"Enabled\",\n",
      "    \"tenantId\": \"72f988bf-86f1-41af-91ab-2d7cd011db47\",\n",
      "    \"user\": {\n",
      "      \"name\": \"jaymathe@microsoft.com\",\n",
      "      \"type\": \"user\"\n",
      "    }\n",
      "  },\n",
      "  {\n",
      "    \"cloudName\": \"AzureCloud\",\n",
      "    \"id\": \"54e18c35-3863-4a17-8e52-b5aa1e65847e\",\n",
      "    \"isDefault\": false,\n",
      "    \"name\": \"Core-ES-BLD\",\n",
      "    \"state\": \"Enabled\",\n",
      "    \"tenantId\": \"72f988bf-86f1-41af-91ab-2d7cd011db47\",\n",
      "    \"user\": {\n",
      "      \"name\": \"jaymathe@microsoft.com\",\n",
      "      \"type\": \"user\"\n",
      "    }\n",
      "  },\n",
      "  {\n",
      "    \"cloudName\": \"AzureCloud\",\n",
      "    \"id\": \"dae41bd3-9db4-4b9b-943e-832b57cac828\",\n",
      "    \"isDefault\": false,\n",
      "    \"name\": \"Cosmos_WDG_Core_BnB_100348\",\n",
      "    \"state\": \"Enabled\",\n",
      "    \"tenantId\": \"72f988bf-86f1-41af-91ab-2d7cd011db47\",\n",
      "    \"user\": {\n",
      "      \"name\": \"jaymathe@microsoft.com\",\n",
      "      \"type\": \"user\"\n",
      "    }\n",
      "  },\n",
      "  {\n",
      "    \"cloudName\": \"AzureCloud\",\n",
      "    \"id\": \"3bcfa59c-82a0-44f9-ac08-b3479370bace\",\n",
      "    \"isDefault\": false,\n",
      "    \"name\": \"Solution Template Testing\",\n",
      "    \"state\": \"Enabled\",\n",
      "    \"tenantId\": \"72f988bf-86f1-41af-91ab-2d7cd011db47\",\n",
      "    \"user\": {\n",
      "      \"name\": \"jaymathe@microsoft.com\",\n",
      "      \"type\": \"user\"\n",
      "    }\n",
      "  },\n",
      "  {\n",
      "    \"cloudName\": \"AzureCloud\",\n",
      "    \"id\": \"bc4170f0-cc6e-49d2-ba65-bc00a7a4df6b\",\n",
      "    \"isDefault\": false,\n",
      "    \"name\": \"Boston Engineering\",\n",
      "    \"state\": \"Enabled\",\n",
      "    \"tenantId\": \"72f988bf-86f1-41af-91ab-2d7cd011db47\",\n",
      "    \"user\": {\n",
      "      \"name\": \"jaymathe@microsoft.com\",\n",
      "      \"type\": \"user\"\n",
      "    }\n",
      "  }\n",
      "]\n",
      "\u001b[0m"
     ]
    }
   ],
   "source": [
    "#Connect to your Azure Subscription\n",
    "!az login"
   ]
  },
  {
   "cell_type": "code",
   "execution_count": 2,
   "metadata": {},
   "outputs": [
    {
     "name": "stdout",
     "output_type": "stream",
     "text": [
      "{\r\n",
      "  \"environmentName\": \"AzureCloud\",\r\n",
      "  \"id\": \"edf507a2-6235-46c5-b560-fd463ba2e771\",\r\n",
      "  \"isDefault\": true,\r\n",
      "  \"name\": \"Team Danielle Internal\",\r\n",
      "  \"state\": \"Enabled\",\r\n",
      "  \"tenantId\": \"72f988bf-86f1-41af-91ab-2d7cd011db47\",\r\n",
      "  \"user\": {\r\n",
      "    \"name\": \"jaymathe@microsoft.com\",\r\n",
      "    \"type\": \"user\"\r\n",
      "  }\r\n",
      "}\r\n",
      "\u001b[0m"
     ]
    }
   ],
   "source": [
    "!az account show"
   ]
  },
  {
   "cell_type": "code",
   "execution_count": 3,
   "metadata": {},
   "outputs": [
    {
     "name": "stdout",
     "output_type": "stream",
     "text": [
      "\u001b[33mRegistering is still on-going. You can monitor using 'az provider show -n Microsoft.MachineLearningServices'\u001b[0m\n",
      "\u001b[0m{\n",
      "  \"authorization\": {\n",
      "    \"applicationId\": \"0736f41a-0425-4b46-bdb5-1563eff02385\",\n",
      "    \"managedByRoleDefinitionId\": \"91d00862-cf55-46a5-9dce-260bbd92ce25\",\n",
      "    \"roleDefinitionId\": \"376aa7d7-51a9-463d-bd4d-7e1691345612\"\n",
      "  },\n",
      "  \"id\": \"/subscriptions/edf507a2-6235-46c5-b560-fd463ba2e771/providers/Microsoft.MachineLearningServices\",\n",
      "  \"namespace\": \"Microsoft.MachineLearningServices\",\n",
      "  \"registrationState\": \"Registered\",\n",
      "  \"resourceTypes\": [\n",
      "    {\n",
      "      \"aliases\": null,\n",
      "      \"apiVersions\": [\n",
      "        \"2018-03-01-preview\"\n",
      "      ],\n",
      "      \"locations\": [\n",
      "        \"East US 2\",\n",
      "        \"East US 2 EUAP\"\n",
      "      ],\n",
      "      \"properties\": null,\n",
      "      \"resourceType\": \"operations\"\n",
      "    },\n",
      "    {\n",
      "      \"aliases\": null,\n",
      "      \"apiVersions\": [\n",
      "        \"2018-03-01-preview\"\n",
      "      ],\n",
      "      \"capabilities\": \"CrossResourceGroupResourceMove, CrossSubscriptionResourceMove, SystemAssignedResourceIdentity\",\n",
      "      \"defaultApiVersion\": \"2018-03-01-preview\",\n",
      "      \"locations\": [\n",
      "        \"East US 2 EUAP\",\n",
      "        \"East US\",\n",
      "        \"Australia East\",\n",
      "        \"East US 2\",\n",
      "        \"West US 2\",\n",
      "        \"West Central US\",\n",
      "        \"Southeast Asia\",\n",
      "        \"West Europe\",\n",
      "        \"South Central US\"\n",
      "      ],\n",
      "      \"properties\": null,\n",
      "      \"resourceType\": \"workspaces\"\n",
      "    },\n",
      "    {\n",
      "      \"aliases\": null,\n",
      "      \"apiVersions\": [\n",
      "        \"2018-03-01-preview\"\n",
      "      ],\n",
      "      \"locations\": [\n",
      "        \"East US 2 EUAP\",\n",
      "        \"East US\",\n",
      "        \"Australia East\",\n",
      "        \"East US 2\",\n",
      "        \"West US 2\",\n",
      "        \"West Central US\",\n",
      "        \"Southeast Asia\",\n",
      "        \"West Europe\",\n",
      "        \"South Central US\"\n",
      "      ],\n",
      "      \"properties\": null,\n",
      "      \"resourceType\": \"workspaces/computes\"\n",
      "    },\n",
      "    {\n",
      "      \"aliases\": null,\n",
      "      \"apiVersions\": [\n",
      "        \"2018-03-01-preview\"\n",
      "      ],\n",
      "      \"locations\": [\n",
      "        \"East US 2 EUAP\",\n",
      "        \"East US 2\"\n",
      "      ],\n",
      "      \"properties\": null,\n",
      "      \"resourceType\": \"locations\"\n",
      "    },\n",
      "    {\n",
      "      \"aliases\": null,\n",
      "      \"apiVersions\": [\n",
      "        \"2018-03-01-preview\"\n",
      "      ],\n",
      "      \"locations\": [\n",
      "        \"East US 2 EUAP\",\n",
      "        \"East US\",\n",
      "        \"Australia East\",\n",
      "        \"East US 2\",\n",
      "        \"West US 2\",\n",
      "        \"West Central US\",\n",
      "        \"Southeast Asia\",\n",
      "        \"West Europe\",\n",
      "        \"South Central US\"\n",
      "      ],\n",
      "      \"properties\": null,\n",
      "      \"resourceType\": \"locations/computeOperationsStatus\"\n",
      "    }\n",
      "  ]\n",
      "}\n",
      "\u001b[0m"
     ]
    }
   ],
   "source": [
    "# register the new RP\n",
    "!az provider register -n Microsoft.MachineLearningServices\n",
    "\n",
    "# check the registration status\n",
    "!az provider show -n Microsoft.MachineLearningServices"
   ]
  },
  {
   "cell_type": "code",
   "execution_count": 4,
   "metadata": {},
   "outputs": [
    {
     "name": "stdout",
     "output_type": "stream",
     "text": [
      "SDK Version: 0.1.4\n"
     ]
    }
   ],
   "source": [
    "import azureml.core\n",
    "\n",
    "print(\"SDK Version:\", azureml.core.VERSION)"
   ]
  },
  {
   "cell_type": "code",
   "execution_count": 5,
   "metadata": {},
   "outputs": [],
   "source": [
    "#Initialize an Azure ML Workspace\n",
    "subscription_id = \"edf507a2-6235-46c5-b560-fd463ba2e771\"\n",
    "resource_group = \"jayavienna\"\n",
    "workspace_name = \"jayavienna\"\n",
    "workspace_region = \"eastus2\" # or eastus2euap"
   ]
  },
  {
   "cell_type": "code",
   "execution_count": 6,
   "metadata": {},
   "outputs": [
    {
     "data": {
      "text/plain": [
       "{'id': '/subscriptions/edf507a2-6235-46c5-b560-fd463ba2e771/resourceGroups/jayavienna/providers/Microsoft.MachineLearningServices/workspaces/jayavienna',\n",
       " 'name': 'jayavienna',\n",
       " 'location': 'eastus2',\n",
       " 'type': 'Microsoft.MachineLearningServices/workspaces',\n",
       " 'description': '',\n",
       " 'friendlyName': 'jayavienna',\n",
       " 'containerRegistry': '/subscriptions/edf507a2-6235-46c5-b560-fd463ba2e771/resourcegroups/jayavienna/providers/microsoft.containerregistry/registries/jayavienacrzhqxfpoo',\n",
       " 'keyVault': '/subscriptions/edf507a2-6235-46c5-b560-fd463ba2e771/resourcegroups/jayavienna/providers/microsoft.keyvault/vaults/jayavienkeyvaultffjnhcad',\n",
       " 'applicationInsights': '/subscriptions/edf507a2-6235-46c5-b560-fd463ba2e771/resourcegroups/jayavienna/providers/microsoft.insights/components/jayavieninsightsjjxuauup',\n",
       " 'batchaiWorkspace': '/subscriptions/edf507a2-6235-46c5-b560-fd463ba2e771/resourcegroups/jayavienna/providers/microsoft.batchai/workspaces/jayavienbatchai_rlifpbub',\n",
       " 'identityPrincipalId': '4f27819f-a74d-4dd5-b8a0-a3f4ca3da1e8',\n",
       " 'identityTenantId': '72f988bf-86f1-41af-91ab-2d7cd011db47',\n",
       " 'identityType': 'SystemAssigned',\n",
       " 'storageAccount': '/subscriptions/edf507a2-6235-46c5-b560-fd463ba2e771/resourcegroups/jayavienna/providers/microsoft.storage/storageaccounts/jayavienstoragesiexgjip'}"
      ]
     },
     "execution_count": 6,
     "metadata": {},
     "output_type": "execute_result"
    }
   ],
   "source": [
    "# import the Workspace class and check the azureml SDK version\n",
    "from azureml.core import Workspace\n",
    "\n",
    "ws = Workspace.create(name = workspace_name,\n",
    "                      subscription_id = subscription_id,\n",
    "                      resource_group = resource_group, \n",
    "                      location = workspace_region)\n",
    "ws.get_details()"
   ]
  },
  {
   "cell_type": "code",
   "execution_count": 7,
   "metadata": {},
   "outputs": [
    {
     "name": "stdout",
     "output_type": "stream",
     "text": [
      "Wrote the config file config.json to: /home/jayaubuntudsvm/Desktop/AKSDeploymentTutorial/Keras_Tensorflow/aml_config/config.json\n"
     ]
    }
   ],
   "source": [
    "ws = Workspace(workspace_name = workspace_name,\n",
    "               subscription_id = subscription_id,\n",
    "               resource_group = resource_group)\n",
    "\n",
    "# persist the subscription id, resource group name, and workspace name in aml_config/config.json.\n",
    "ws.write_config()"
   ]
  },
  {
   "cell_type": "code",
   "execution_count": 8,
   "metadata": {},
   "outputs": [
    {
     "name": "stdout",
     "output_type": "stream",
     "text": [
      "Found the config file in: /home/jayaubuntudsvm/Desktop/AKSDeploymentTutorial/Keras_Tensorflow/aml_config/config.json\n"
     ]
    },
    {
     "data": {
      "text/plain": [
       "{'id': '/subscriptions/edf507a2-6235-46c5-b560-fd463ba2e771/resourceGroups/jayavienna/providers/Microsoft.MachineLearningServices/workspaces/jayavienna',\n",
       " 'name': 'jayavienna',\n",
       " 'location': 'eastus2',\n",
       " 'type': 'Microsoft.MachineLearningServices/workspaces',\n",
       " 'description': '',\n",
       " 'friendlyName': 'jayavienna',\n",
       " 'containerRegistry': '/subscriptions/edf507a2-6235-46c5-b560-fd463ba2e771/resourcegroups/jayavienna/providers/microsoft.containerregistry/registries/jayavienacrzhqxfpoo',\n",
       " 'keyVault': '/subscriptions/edf507a2-6235-46c5-b560-fd463ba2e771/resourcegroups/jayavienna/providers/microsoft.keyvault/vaults/jayavienkeyvaultffjnhcad',\n",
       " 'applicationInsights': '/subscriptions/edf507a2-6235-46c5-b560-fd463ba2e771/resourcegroups/jayavienna/providers/microsoft.insights/components/jayavieninsightsjjxuauup',\n",
       " 'batchaiWorkspace': '/subscriptions/edf507a2-6235-46c5-b560-fd463ba2e771/resourcegroups/jayavienna/providers/microsoft.batchai/workspaces/jayavienbatchai_rlifpbub',\n",
       " 'identityPrincipalId': '4f27819f-a74d-4dd5-b8a0-a3f4ca3da1e8',\n",
       " 'identityTenantId': '72f988bf-86f1-41af-91ab-2d7cd011db47',\n",
       " 'identityType': 'SystemAssigned',\n",
       " 'storageAccount': '/subscriptions/edf507a2-6235-46c5-b560-fd463ba2e771/resourcegroups/jayavienna/providers/microsoft.storage/storageaccounts/jayavienstoragesiexgjip'}"
      ]
     },
     "execution_count": 8,
     "metadata": {},
     "output_type": "execute_result"
    }
   ],
   "source": [
    "# load workspace configuratio from ./aml_config/config.json file.ß\n",
    "my_workspace = Workspace.from_config()\n",
    "my_workspace.get_details()"
   ]
  },
  {
   "cell_type": "code",
   "execution_count": 9,
   "metadata": {},
   "outputs": [
    {
     "name": "stdout",
     "output_type": "stream",
     "text": [
      "Sample projects will be created in ./sample_projects.\n"
     ]
    }
   ],
   "source": [
    "import os\n",
    "\n",
    "sample_projects_folder = './sample_projects'\n",
    "\n",
    "if not os.path.isdir(sample_projects_folder):\n",
    "    os.mkdir(sample_projects_folder)\n",
    "    \n",
    "print('Sample projects will be created in {}.'.format(sample_projects_folder))"
   ]
  },
  {
   "cell_type": "code",
   "execution_count": null,
   "metadata": {},
   "outputs": [],
   "source": []
  }
 ],
 "metadata": {
  "kernelspec": {
   "display_name": "Python [conda env:myenv]",
   "language": "python",
   "name": "conda-env-myenv-py"
  },
  "language_info": {
   "codemirror_mode": {
    "name": "ipython",
    "version": 3
   },
   "file_extension": ".py",
   "mimetype": "text/x-python",
   "name": "python",
   "nbconvert_exporter": "python",
   "pygments_lexer": "ipython3",
   "version": "3.6.6"
  }
 },
 "nbformat": 4,
 "nbformat_minor": 2
}
