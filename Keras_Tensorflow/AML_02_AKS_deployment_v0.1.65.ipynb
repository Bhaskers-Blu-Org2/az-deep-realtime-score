{
 "cells": [
  {
   "cell_type": "markdown",
   "metadata": {},
   "source": [
    "# Refer to \n",
    "https://github.com/Azure/ViennaDocs/blob/master/PrivatePreview/notebooks/01.train-within-notebook.ipynb\n",
    "https://github.com/Azure/ViennaDocs/blob/master/PrivatePreview/notebooks/11.production-deploy-to-aks.ipynb"
   ]
  },
  {
   "cell_type": "code",
   "execution_count": 1,
   "metadata": {},
   "outputs": [],
   "source": [
    "from azureml.core import Workspace\n",
    "from azureml.core.compute import AksCompute, ComputeTarget\n",
    "from azureml.core.webservice import Webservice, AksWebservice\n",
    "from azureml.core.image import Image\n",
    "from azureml.core.model import Model"
   ]
  },
  {
   "cell_type": "code",
   "execution_count": 2,
   "metadata": {},
   "outputs": [
    {
     "name": "stdout",
     "output_type": "stream",
     "text": [
      "0.1.65\n"
     ]
    }
   ],
   "source": [
    "import azureml.core\n",
    "print(azureml.core.VERSION)"
   ]
  },
  {
   "cell_type": "code",
   "execution_count": 3,
   "metadata": {},
   "outputs": [
    {
     "name": "stdout",
     "output_type": "stream",
     "text": [
      "Found the config file in: /home/jayaubuntudsvm/Desktop/AKSDeploymentTutorial/Keras_Tensorflow/aml_config/config.json\n",
      "jayavienna\n",
      "jayavienna\n",
      "eastus2\n",
      "edf507a2-6235-46c5-b560-fd463ba2e771\n"
     ]
    }
   ],
   "source": [
    "from azureml.core.workspace import Workspace\n",
    "\n",
    "ws = Workspace.from_config()\n",
    "print(ws.name, ws.resource_group, ws.location, ws.subscription_id, sep = '\\n')"
   ]
  },
  {
   "cell_type": "code",
   "execution_count": 4,
   "metadata": {},
   "outputs": [
    {
     "name": "stderr",
     "output_type": "stream",
     "text": [
      "Using TensorFlow backend.\n"
     ]
    }
   ],
   "source": [
    "#Creating the model pickle file\n",
    "import tensorflow as tf\n",
    "from resnet152 import ResNet152\n",
    "from keras.preprocessing import image\n",
    "from keras.applications.imagenet_utils import preprocess_input, decode_predictions\n",
    "\n",
    "model = ResNet152(weights='imagenet')"
   ]
  },
  {
   "cell_type": "code",
   "execution_count": 5,
   "metadata": {},
   "outputs": [
    {
     "data": {
      "text/plain": [
       "<keras.engine.training.Model at 0x7f893e08df60>"
      ]
     },
     "execution_count": 5,
     "metadata": {},
     "output_type": "execute_result"
    }
   ],
   "source": [
    "model"
   ]
  },
  {
   "cell_type": "code",
   "execution_count": 6,
   "metadata": {},
   "outputs": [],
   "source": [
    "model_json = model.to_json()\n",
    "with open(\"model_resnet.json\", \"w\") as json_file:\n",
    "    json_file.write(model_json)"
   ]
  },
  {
   "cell_type": "code",
   "execution_count": 7,
   "metadata": {},
   "outputs": [],
   "source": [
    "model.save_weights(\"model_resnet_weights.h5\")"
   ]
  },
  {
   "cell_type": "code",
   "execution_count": 8,
   "metadata": {},
   "outputs": [],
   "source": [
    "#from keras.models import model_from_json\n",
    "#model = model_from_json(model_json)"
   ]
  },
  {
   "cell_type": "code",
   "execution_count": 9,
   "metadata": {},
   "outputs": [],
   "source": [
    "model.load_weights('model_resnet_weights.h5')"
   ]
  },
  {
   "cell_type": "code",
   "execution_count": 10,
   "metadata": {},
   "outputs": [
    {
     "data": {
      "text/plain": [
       "<keras.engine.training.Model at 0x7f893e08df60>"
      ]
     },
     "execution_count": 10,
     "metadata": {},
     "output_type": "execute_result"
    }
   ],
   "source": [
    "model"
   ]
  },
  {
   "cell_type": "code",
   "execution_count": 11,
   "metadata": {},
   "outputs": [],
   "source": [
    "#Register the model\n",
    "#from azureml.core.model import Model\n",
    "#model = Model.register(model_path = \"model_resnet_weights.h5\", # this points to a local file\n",
    "#                       model_name = \"resnet_model\", # this is the name the model is registered as\n",
    "#                       tags = [\"dl\", \"resnet\"],\n",
    "#                       description = \"resnet 152 model\",\n",
    "#                       workspace = ws)\n",
    "\n",
    "#print(model.name, model.description, model.version)"
   ]
  },
  {
   "cell_type": "code",
   "execution_count": 12,
   "metadata": {},
   "outputs": [],
   "source": [
    "#define init() function\n",
    "def init():\n",
    "    import tensorflow as tf\n",
    "    from resnet152 import ResNet152\n",
    "    from keras.preprocessing import image\n",
    "    from keras.applications.imagenet_utils import preprocess_input, decode_predictions\n",
    "\n",
    "    import numpy as np\n",
    "    import timeit as t\n",
    "    import base64\n",
    "    import json\n",
    "    from PIL import Image, ImageOps\n",
    "    from io import BytesIO\n",
    "    import logging\n",
    "\n",
    "    global model\n",
    "    model = ResNet152(weights='imagenet')\n",
    "    print('Model loaded')"
   ]
  },
  {
   "cell_type": "code",
   "execution_count": 13,
   "metadata": {},
   "outputs": [
    {
     "name": "stdout",
     "output_type": "stream",
     "text": [
      "Model loaded\n"
     ]
    }
   ],
   "source": [
    "init()"
   ]
  },
  {
   "cell_type": "code",
   "execution_count": 14,
   "metadata": {},
   "outputs": [],
   "source": [
    "#define run() function \n",
    "def run(img_path):\n",
    "    \n",
    "    import tensorflow as tf\n",
    "    from resnet152 import ResNet152\n",
    "    from keras.preprocessing import image\n",
    "    from keras.applications.imagenet_utils import preprocess_input, decode_predictions\n",
    "\n",
    "    import numpy as np\n",
    "    import timeit as t\n",
    "    import base64\n",
    "    import json\n",
    "    from PIL import Image, ImageOps\n",
    "    from io import BytesIO\n",
    "    import logging   \n",
    "    \n",
    "    model = ResNet152(weights='imagenet')\n",
    "    print('Model loaded')\n",
    "  \n",
    "    img = image.load_img(img_path, target_size=(224, 224))\n",
    "    img = image.img_to_array(img)\n",
    "    img = np.expand_dims(img, axis=0)\n",
    "    img = preprocess_input(img)\n",
    "    \n",
    "    preds = model.predict(img)\n",
    "    print('Predicted:', decode_predictions(preds, top=3))"
   ]
  },
  {
   "cell_type": "code",
   "execution_count": 15,
   "metadata": {},
   "outputs": [
    {
     "data": {
      "text/plain": [
       "'220px-Lynx_lynx_poing (1).jpg'"
      ]
     },
     "execution_count": 15,
     "metadata": {},
     "output_type": "execute_result"
    }
   ],
   "source": [
    "import wget\n",
    "wget.download('https://upload.wikimedia.org/wikipedia/commons/thumb/6/68/Lynx_lynx_poing.jpg/220px-Lynx_lynx_poing.jpg')"
   ]
  },
  {
   "cell_type": "code",
   "execution_count": 16,
   "metadata": {},
   "outputs": [],
   "source": [
    "img_path = '220px-Lynx_lynx_poing.jpg'"
   ]
  },
  {
   "cell_type": "code",
   "execution_count": 17,
   "metadata": {},
   "outputs": [
    {
     "name": "stdout",
     "output_type": "stream",
     "text": [
      "Model loaded\n",
      "Predicted: [[('n02127052', 'lynx', 0.99590886), ('n02128385', 'leopard', 0.001150445), ('n02123159', 'tiger_cat', 0.0009417962)]]\n"
     ]
    }
   ],
   "source": [
    "run(img_path)"
   ]
  },
  {
   "cell_type": "code",
   "execution_count": 18,
   "metadata": {},
   "outputs": [
    {
     "name": "stdout",
     "output_type": "stream",
     "text": [
      "Overwriting score.py\n"
     ]
    }
   ],
   "source": [
    "%%writefile score.py\n",
    "def init():\n",
    "    import tensorflow as tf\n",
    "    from resnet152 import ResNet152\n",
    "    from keras.preprocessing import image\n",
    "    from keras.applications.imagenet_utils import preprocess_input, decode_predictions\n",
    "\n",
    "    import numpy as np\n",
    "    import timeit as t\n",
    "    import base64\n",
    "    import json\n",
    "    from PIL import Image, ImageOps\n",
    "    from io import BytesIO\n",
    "    import logging\n",
    "\n",
    "    global model\n",
    "    model = ResNet152(weights='imagenet')\n",
    "    print('Model loaded')\n",
    "    \n",
    "def run(img_path):\n",
    "    \n",
    "    import tensorflow as tf\n",
    "    from resnet152 import ResNet152\n",
    "    from keras.preprocessing import image\n",
    "    from keras.applications.imagenet_utils import preprocess_input, decode_predictions\n",
    "\n",
    "    import numpy as np\n",
    "    import timeit as t\n",
    "    import base64\n",
    "    import json\n",
    "    from PIL import Image, ImageOps\n",
    "    from io import BytesIO\n",
    "    import logging   \n",
    "    \n",
    "    model = ResNet152(weights='imagenet')\n",
    "    print('Model loaded')\n",
    "  \n",
    "    img = image.load_img(img_path, target_size=(224, 224))\n",
    "    img = image.img_to_array(img)\n",
    "    img = np.expand_dims(img, axis=0)\n",
    "    img = preprocess_input(img)\n",
    "    \n",
    "    preds = model.predict(img)\n",
    "    print('Predicted:', decode_predictions(preds, top=3))    "
   ]
  },
  {
   "cell_type": "code",
   "execution_count": 19,
   "metadata": {},
   "outputs": [],
   "source": [
    "%run score.py"
   ]
  },
  {
   "cell_type": "code",
   "execution_count": 20,
   "metadata": {},
   "outputs": [
    {
     "name": "stdout",
     "output_type": "stream",
     "text": [
      "def init():\n",
      "    import tensorflow as tf\n",
      "    from resnet152 import ResNet152\n",
      "    from keras.preprocessing import image\n",
      "    from keras.applications.imagenet_utils import preprocess_input, decode_predi\n",
      "ctions\n",
      "\n",
      "    import numpy as np\n",
      "    import timeit as t\n",
      "    import base64\n",
      "    import json\n",
      "    from PIL import Image, ImageOps\n",
      "    from io import BytesIO\n",
      "    import logging\n",
      "\n",
      "    global model\n",
      "    model = ResNet152(weights='imagenet')\n",
      "    print('Model loaded')\n",
      "    \n",
      "def run(img_path):\n",
      "    \n",
      "    import tensorflow as tf\n",
      "    from resnet152 import ResNet152\n",
      "\u001b[Km--More--(46%)\u001b[m"
     ]
    }
   ],
   "source": [
    "!more score.py"
   ]
  },
  {
   "cell_type": "code",
   "execution_count": 21,
   "metadata": {},
   "outputs": [
    {
     "name": "stdout",
     "output_type": "stream",
     "text": [
      "# Conda environment specification. The dependencies defined in this file will\n",
      "# be automatically provisioned for runs with userManagedDependencies=False.\n",
      "\n",
      "# Details about the Conda environment file format:\n",
      "# https://conda.io/docs/user-guide/tasks/manage-environments.html#create-env-fil\n",
      "e-manually\n",
      "\n",
      "name: project_environment\n",
      "dependencies:\n",
      "  # The python interpreter version.\n",
      "  # Currently Azure ML only supports 3.5.2 and later.\n",
      "- python=3.6\n",
      "\n",
      "- pip:\n",
      "    # Required packages for AzureML execution, history, and data preparation.\n",
      "  - --index-url https://azuremlsdktestpypi.azureedge.net/sdk-release/Preview/E75\n",
      "01C02541B433786111FE8E140CAA1\n",
      "  - --extra-index-url https://pypi.python.org/simple\n",
      "  - azureml-defaults\n",
      "  - papermill==0.14.1\n",
      "  - python-dotenv==0.9.0\n",
      "  - Pillow==5.2.0\n",
      "  - wget==3.2\n",
      "\u001b[Km--More--(86%)\u001b[m"
     ]
    }
   ],
   "source": [
    "!more conda_dependencies.yml"
   ]
  },
  {
   "cell_type": "code",
   "execution_count": 22,
   "metadata": {},
   "outputs": [
    {
     "data": {
      "text/plain": [
       "'/home/jayaubuntudsvm/Desktop/AKSDeploymentTutorial/Keras_Tensorflow'"
      ]
     },
     "execution_count": 22,
     "metadata": {},
     "output_type": "execute_result"
    }
   ],
   "source": [
    "import os\n",
    "os.getcwd()"
   ]
  },
  {
   "cell_type": "code",
   "execution_count": 23,
   "metadata": {},
   "outputs": [
    {
     "data": {
      "text/plain": [
       "['AML_00_configuration_v0.1.50.ipynb',\n",
       " '00_DevelopModel.ipynb',\n",
       " 'AML_02_DevelopModelDriver_AKS-old.ipynb',\n",
       " 'AML_01_trainlocal-docker.ipynb',\n",
       " 'model_resnet_weights.h5',\n",
       " 'AML_02_resnet_model_weights.ipynb',\n",
       " '01_DevelopModelDriver.ipynb',\n",
       " '__pycache__',\n",
       " 'samples',\n",
       " 'resnet152_n.py',\n",
       " '06_SpeedTestWebApp.ipynb',\n",
       " '03_TestLocally.ipynb',\n",
       " 'AML_02_Develop_init_run_functions.ipynb',\n",
       " '220px-Lynx_lynx_poing (1).jpg',\n",
       " 'AML_02_AKS_deployment_v0.1.65.ipynb',\n",
       " 'AML_02_AKS_deployment.ipynb',\n",
       " 'aml_config',\n",
       " '05_TestWebApp.ipynb',\n",
       " '04_DeployOnAKS.ipynb',\n",
       " 'score.py',\n",
       " 'model_resnet.json',\n",
       " 'AML_01_trainlocal_v0.1.50.ipynb',\n",
       " 'AML_00_configuration_v0.1.65.ipynb',\n",
       " '02_BuildImage.ipynb',\n",
       " '07_TearDown.ipynb',\n",
       " 'helpers.py',\n",
       " 'testing_utilities.py',\n",
       " '220px-Lynx_lynx_poing.jpg',\n",
       " 'config',\n",
       " 'conda_dependencies.yml',\n",
       " 'resnet152.py',\n",
       " 'AML_02_AKS_deployment_v0.1.50.ipynb',\n",
       " 'README.md',\n",
       " 'environment.yml',\n",
       " 'sample_projects',\n",
       " 'AML_01_trainlocal_v0.1.65.ipynb',\n",
       " '.ipynb_checkpoints']"
      ]
     },
     "execution_count": 23,
     "metadata": {},
     "output_type": "execute_result"
    }
   ],
   "source": [
    "os.listdir(os.getcwd())"
   ]
  },
  {
   "cell_type": "code",
   "execution_count": 24,
   "metadata": {},
   "outputs": [
    {
     "name": "stdout",
     "output_type": "stream",
     "text": [
      "Creating image\n",
      "Running.............................................................\n",
      "SucceededImage creation operation finished for image myimage1:6, operation \"Succeeded\"\n"
     ]
    }
   ],
   "source": [
    "from azureml.core.image import ContainerImage\n",
    "\n",
    "image_config = ContainerImage.image_configuration(execution_script = \"score.py\",\n",
    "                                                  runtime = \"python\",\n",
    "                                                  conda_file = \"conda_dependencies.yml\",\n",
    "                                                  description = \"Image for AKS Deployment Tutorial\",\n",
    "                                                  tags = {\"name\":\"AKS\",\"project\":\"AML\"}, \n",
    "                                                  dependencies = [\"resnet152_n.py\"]\n",
    "                                                 )\n",
    "\n",
    "image = ContainerImage.create(name = \"myimage1\",\n",
    "                              # this is the model object\n",
    "                              models = [],                              \n",
    "                              image_config = image_config,\n",
    "                              workspace = ws)\n",
    "\n",
    "image.wait_for_creation(show_output = True)"
   ]
  },
  {
   "cell_type": "code",
   "execution_count": 25,
   "metadata": {},
   "outputs": [
    {
     "data": {
      "text/plain": [
       "{'myimage1': ContainerImage(workspace=<azureml.core.workspace.Workspace object at 0x7f89b026b860>, name=myimage1, id=myimage1:6, tags={'name': 'AKS', 'project': 'AML'}, properties={}, version=6),\n",
       " 'my-aci-svc-1': ContainerImage(workspace=<azureml.core.workspace.Workspace object at 0x7f89b026b860>, name=my-aci-svc-1, id=my-aci-svc-1:4, tags={}, properties={}, version=4)}"
      ]
     },
     "execution_count": 25,
     "metadata": {},
     "output_type": "execute_result"
    }
   ],
   "source": [
    "#list images\n",
    "images = ws.images()\n",
    "images"
   ]
  },
  {
   "cell_type": "code",
   "execution_count": 26,
   "metadata": {},
   "outputs": [],
   "source": [
    "#for img in ws.images():\n",
    "#    if img.name == 'myimage1': img.delete()"
   ]
  },
  {
   "cell_type": "code",
   "execution_count": 27,
   "metadata": {},
   "outputs": [],
   "source": [
    "#Provision AKS cluster\n",
    "# Use the default configuration (can also provide parameters to customize)\n",
    "prov_config = AksCompute.provisioning_configuration()\n",
    "\n",
    "aks_name = 'jaya-aks-4' \n",
    "# Create the cluster\n",
    "aks_target = ComputeTarget.create(workspace = ws, \n",
    "                                  name = aks_name, \n",
    "                                  provisioning_configuration = prov_config)"
   ]
  },
  {
   "cell_type": "code",
   "execution_count": 28,
   "metadata": {},
   "outputs": [
    {
     "name": "stdout",
     "output_type": "stream",
     "text": [
      "Creating................................................................................................................................................................................\n",
      "SucceededProvisioning operation finished, operation \"Succeeded\"\n",
      "Succeeded\n",
      "None\n",
      "CPU times: user 2.68 s, sys: 139 ms, total: 2.82 s\n",
      "Wall time: 15min 16s\n"
     ]
    }
   ],
   "source": [
    "%%time\n",
    "aks_target.wait_for_completion(show_output = True)\n",
    "print(aks_target.provisioning_state)\n",
    "print(aks_target.provisioning_errors)"
   ]
  },
  {
   "cell_type": "code",
   "execution_count": 29,
   "metadata": {},
   "outputs": [
    {
     "name": "stdout",
     "output_type": "stream",
     "text": [
      "\u001b[31mThe Resource 'Microsoft.ContainerService/managedClusters/jaya-aks-4' under resource group 'jayavienna' was not found.\u001b[0m\n",
      "\u001b[0m"
     ]
    }
   ],
   "source": [
    "!az aks get-credentials -n 'jaya-aks-4' -g jayavienna -a -f config"
   ]
  },
  {
   "cell_type": "code",
   "execution_count": 30,
   "metadata": {},
   "outputs": [
    {
     "name": "stdout",
     "output_type": "stream",
     "text": [
      "No resources found.\r\n",
      "Error from server (NotAcceptable): unknown (get services)\r\n"
     ]
    }
   ],
   "source": [
    "!kubectl --kubeconfig config get services"
   ]
  },
  {
   "cell_type": "code",
   "execution_count": 31,
   "metadata": {},
   "outputs": [],
   "source": [
    "#Deploy web service to AKS\n",
    "#Set the web service configuration (using default here)\n",
    "aks_config = AksWebservice.deploy_configuration()"
   ]
  },
  {
   "cell_type": "code",
   "execution_count": null,
   "metadata": {},
   "outputs": [],
   "source": [
    "%%time\n",
    "aks_service_name ='jaya-aks-service-4'\n",
    "\n",
    "aks_service = Webservice.deploy_from_image(workspace = ws, \n",
    "                                           name = aks_service_name,\n",
    "                                           image = image,\n",
    "                                           deployment_config = aks_config,\n",
    "                                           deployment_target = aks_target)\n",
    "aks_service.wait_for_deployment(show_output = True)\n",
    "print(aks_service.state)"
   ]
  },
  {
   "cell_type": "code",
   "execution_count": null,
   "metadata": {},
   "outputs": [],
   "source": [
    "#Debug\n",
    "\n",
    "# load workspace from default config file\n",
    "ws = Workspace.from_config()\n",
    "\n",
    "# list all web services in the workspace\n",
    "for s in ws.webservices():\n",
    "    print(s.name)\n",
    "\n",
    "# instantiate the web service object from workspace and service name\n",
    "svc = Webservice(workspace = ws, name = 'jaya-aks-service-2')\n",
    "\n",
    "# print out the Docker log\n",
    "print(svc.get_logs())"
   ]
  },
  {
   "cell_type": "code",
   "execution_count": 34,
   "metadata": {},
   "outputs": [],
   "source": [
    "#clean up resources\n",
    "#aks_target = AksCompute(name='jaya-aks-1',workspace=ws)\n",
    "#aks_target.delete()"
   ]
  },
  {
   "cell_type": "code",
   "execution_count": 3,
   "metadata": {},
   "outputs": [
    {
     "name": "stdout",
     "output_type": "stream",
     "text": [
      "\r",
      "\u001b[K - Starting ..\r",
      "\r",
      "\u001b[K - Finished ..\r",
      "\r",
      "\u001b[K\u001b[0m"
     ]
    }
   ],
   "source": [
    "#alternate code to clean up resources\n",
    "!az aks delete --resource-group jayavienna --name jaya-aks-2 --yes"
   ]
  },
  {
   "cell_type": "code",
   "execution_count": null,
   "metadata": {},
   "outputs": [],
   "source": [
    "for s in ws.webservices():\n",
    "    print(s.name)"
   ]
  },
  {
   "cell_type": "code",
   "execution_count": null,
   "metadata": {},
   "outputs": [],
   "source": [
    "s =  Webservice(ws, 'jaya-aks-service-2')\n",
    "s.delete()"
   ]
  },
  {
   "cell_type": "code",
   "execution_count": null,
   "metadata": {},
   "outputs": [],
   "source": [
    "from azureml.core import Workspace\n",
    "from azureml.core.compute import AksCompute, ComputeTarget\n",
    "\n",
    "ws = Workspace.from_config()\n",
    "\n",
    "for c in ws.compute_targets():\n",
    "    print(c.name)\n"
   ]
  },
  {
   "cell_type": "code",
   "execution_count": null,
   "metadata": {},
   "outputs": [],
   "source": []
  }
 ],
 "metadata": {
  "kernelspec": {
   "display_name": "Python [conda env:myenv]",
   "language": "python",
   "name": "conda-env-myenv-py"
  },
  "language_info": {
   "codemirror_mode": {
    "name": "ipython",
    "version": 3
   },
   "file_extension": ".py",
   "mimetype": "text/x-python",
   "name": "python",
   "nbconvert_exporter": "python",
   "pygments_lexer": "ipython3",
   "version": "3.6.6"
  }
 },
 "nbformat": 4,
 "nbformat_minor": 2
}
