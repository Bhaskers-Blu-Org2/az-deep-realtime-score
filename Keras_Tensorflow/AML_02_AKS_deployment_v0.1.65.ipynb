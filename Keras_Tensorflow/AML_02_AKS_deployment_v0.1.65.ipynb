{
 "cells": [
  {
   "cell_type": "markdown",
   "metadata": {},
   "source": [
    "# Refer to \n",
    "https://github.com/Azure/ViennaDocs/blob/master/PrivatePreview/notebooks/01.train-within-notebook.ipynb\n",
    "https://github.com/Azure/ViennaDocs/blob/master/PrivatePreview/notebooks/11.production-deploy-to-aks.ipynb"
   ]
  },
  {
   "cell_type": "code",
   "execution_count": 57,
   "metadata": {},
   "outputs": [],
   "source": [
    "from azureml.core import Workspace\n",
    "from azureml.core.compute import AksCompute, ComputeTarget\n",
    "from azureml.core.webservice import Webservice, AksWebservice\n",
    "from azureml.core.image import Image\n",
    "from azureml.core.model import Model"
   ]
  },
  {
   "cell_type": "code",
   "execution_count": 58,
   "metadata": {},
   "outputs": [
    {
     "name": "stdout",
     "output_type": "stream",
     "text": [
      "0.1.65\n"
     ]
    }
   ],
   "source": [
    "import azureml.core\n",
    "print(azureml.core.VERSION)"
   ]
  },
  {
   "cell_type": "code",
   "execution_count": 59,
   "metadata": {},
   "outputs": [
    {
     "name": "stdout",
     "output_type": "stream",
     "text": [
      "Found the config file in: /home/jayaubuntudsvm/Desktop/AKSDeploymentTutorial/Keras_Tensorflow/aml_config/config.json\n",
      "jayavienna\n",
      "jayavienna\n",
      "eastus2\n",
      "edf507a2-6235-46c5-b560-fd463ba2e771\n"
     ]
    }
   ],
   "source": [
    "from azureml.core.workspace import Workspace\n",
    "\n",
    "ws = Workspace.from_config()\n",
    "print(ws.name, ws.resource_group, ws.location, ws.subscription_id, sep = '\\n')"
   ]
  },
  {
   "cell_type": "code",
   "execution_count": 60,
   "metadata": {},
   "outputs": [],
   "source": [
    "#Creating the model pickle file\n",
    "import tensorflow as tf\n",
    "from resnet152 import ResNet152\n",
    "from keras.preprocessing import image\n",
    "from keras.applications.imagenet_utils import preprocess_input, decode_predictions\n",
    "\n",
    "model = ResNet152(weights='imagenet')"
   ]
  },
  {
   "cell_type": "code",
   "execution_count": 61,
   "metadata": {},
   "outputs": [
    {
     "data": {
      "text/plain": [
       "<keras.engine.training.Model at 0x7f88dd853358>"
      ]
     },
     "execution_count": 61,
     "metadata": {},
     "output_type": "execute_result"
    }
   ],
   "source": [
    "model"
   ]
  },
  {
   "cell_type": "code",
   "execution_count": 62,
   "metadata": {},
   "outputs": [],
   "source": [
    "model_json = model.to_json()\n",
    "with open(\"model_resnet.json\", \"w\") as json_file:\n",
    "    json_file.write(model_json)"
   ]
  },
  {
   "cell_type": "code",
   "execution_count": 63,
   "metadata": {},
   "outputs": [],
   "source": [
    "model.save_weights(\"model_resnet_weights.h5\")"
   ]
  },
  {
   "cell_type": "code",
   "execution_count": 64,
   "metadata": {},
   "outputs": [],
   "source": [
    "#from keras.models import model_from_json\n",
    "#model = model_from_json(model_json)"
   ]
  },
  {
   "cell_type": "code",
   "execution_count": 65,
   "metadata": {},
   "outputs": [],
   "source": [
    "model.load_weights('model_resnet_weights.h5')"
   ]
  },
  {
   "cell_type": "code",
   "execution_count": 66,
   "metadata": {},
   "outputs": [
    {
     "data": {
      "text/plain": [
       "<keras.engine.training.Model at 0x7f88dd853358>"
      ]
     },
     "execution_count": 66,
     "metadata": {},
     "output_type": "execute_result"
    }
   ],
   "source": [
    "model"
   ]
  },
  {
   "cell_type": "code",
   "execution_count": 67,
   "metadata": {},
   "outputs": [],
   "source": [
    "#Register the model\n",
    "#from azureml.core.model import Model\n",
    "#model = Model.register(model_path = \"model_resnet_weights.h5\", # this points to a local file\n",
    "#                       model_name = \"resnet_model\", # this is the name the model is registered as\n",
    "#                       tags = [\"dl\", \"resnet\"],\n",
    "#                       description = \"resnet 152 model\",\n",
    "#                       workspace = ws)\n",
    "\n",
    "#print(model.name, model.description, model.version)"
   ]
  },
  {
   "cell_type": "code",
   "execution_count": 68,
   "metadata": {},
   "outputs": [],
   "source": [
    "#define init() function\n",
    "def init():\n",
    "    import tensorflow as tf\n",
    "    from resnet152 import ResNet152\n",
    "    from keras.preprocessing import image\n",
    "    from keras.applications.imagenet_utils import preprocess_input, decode_predictions\n",
    "\n",
    "    import numpy as np\n",
    "    import timeit as t\n",
    "    import base64\n",
    "    import json\n",
    "    from PIL import Image, ImageOps\n",
    "    from io import BytesIO\n",
    "    import logging\n",
    "\n",
    "    global model\n",
    "    model = ResNet152(weights='imagenet')\n",
    "    print('Model loaded')"
   ]
  },
  {
   "cell_type": "code",
   "execution_count": 69,
   "metadata": {},
   "outputs": [
    {
     "name": "stdout",
     "output_type": "stream",
     "text": [
      "Model loaded\n"
     ]
    }
   ],
   "source": [
    "init()"
   ]
  },
  {
   "cell_type": "code",
   "execution_count": 70,
   "metadata": {},
   "outputs": [],
   "source": [
    "#define run() function \n",
    "def run(img_path):\n",
    "    \n",
    "    import tensorflow as tf\n",
    "    from resnet152 import ResNet152\n",
    "    from keras.preprocessing import image\n",
    "    from keras.applications.imagenet_utils import preprocess_input, decode_predictions\n",
    "\n",
    "    import numpy as np\n",
    "    import timeit as t\n",
    "    import base64\n",
    "    import json\n",
    "    from PIL import Image, ImageOps\n",
    "    from io import BytesIO\n",
    "    import logging   \n",
    "    \n",
    "    model = ResNet152(weights='imagenet')\n",
    "    print('Model loaded')\n",
    "  \n",
    "    img = image.load_img(img_path, target_size=(224, 224))\n",
    "    img = image.img_to_array(img)\n",
    "    img = np.expand_dims(img, axis=0)\n",
    "    img = preprocess_input(img)\n",
    "    \n",
    "    preds = model.predict(img)\n",
    "    print('Predicted:', decode_predictions(preds, top=3))"
   ]
  },
  {
   "cell_type": "code",
   "execution_count": 71,
   "metadata": {},
   "outputs": [
    {
     "data": {
      "text/plain": [
       "'220px-Lynx_lynx_poing (2).jpg'"
      ]
     },
     "execution_count": 71,
     "metadata": {},
     "output_type": "execute_result"
    }
   ],
   "source": [
    "import wget\n",
    "wget.download('https://upload.wikimedia.org/wikipedia/commons/thumb/6/68/Lynx_lynx_poing.jpg/220px-Lynx_lynx_poing.jpg')"
   ]
  },
  {
   "cell_type": "code",
   "execution_count": 72,
   "metadata": {},
   "outputs": [],
   "source": [
    "img_path = '220px-Lynx_lynx_poing.jpg'"
   ]
  },
  {
   "cell_type": "code",
   "execution_count": 73,
   "metadata": {},
   "outputs": [
    {
     "name": "stdout",
     "output_type": "stream",
     "text": [
      "Model loaded\n",
      "Predicted: [[('n02127052', 'lynx', 0.99590886), ('n02128385', 'leopard', 0.001150445), ('n02123159', 'tiger_cat', 0.0009417962)]]\n"
     ]
    }
   ],
   "source": [
    "run(img_path)"
   ]
  },
  {
   "cell_type": "code",
   "execution_count": 74,
   "metadata": {},
   "outputs": [
    {
     "name": "stdout",
     "output_type": "stream",
     "text": [
      "Overwriting score.py\n"
     ]
    }
   ],
   "source": [
    "%%writefile score.py\n",
    "def init():\n",
    "    import tensorflow as tf\n",
    "    from resnet152 import ResNet152\n",
    "    from keras.preprocessing import image\n",
    "    from keras.applications.imagenet_utils import preprocess_input, decode_predictions\n",
    "\n",
    "    import numpy as np\n",
    "    import timeit as t\n",
    "    import base64\n",
    "    import json\n",
    "    from PIL import Image, ImageOps\n",
    "    from io import BytesIO\n",
    "    import logging\n",
    "\n",
    "    global model\n",
    "    model = ResNet152(weights='imagenet')\n",
    "    print('Model loaded')\n",
    "    \n",
    "def run(img_path):\n",
    "    \n",
    "    import tensorflow as tf\n",
    "    from resnet152 import ResNet152\n",
    "    from keras.preprocessing import image\n",
    "    from keras.applications.imagenet_utils import preprocess_input, decode_predictions\n",
    "\n",
    "    import numpy as np\n",
    "    import timeit as t\n",
    "    import base64\n",
    "    import json\n",
    "    from PIL import Image, ImageOps\n",
    "    from io import BytesIO\n",
    "    import logging   \n",
    "    \n",
    "    model = ResNet152(weights='imagenet')\n",
    "    print('Model loaded')\n",
    "  \n",
    "    img = image.load_img(img_path, target_size=(224, 224))\n",
    "    img = image.img_to_array(img)\n",
    "    img = np.expand_dims(img, axis=0)\n",
    "    img = preprocess_input(img)\n",
    "    \n",
    "    preds = model.predict(img)\n",
    "    print('Predicted:', decode_predictions(preds, top=3))    "
   ]
  },
  {
   "cell_type": "code",
   "execution_count": 75,
   "metadata": {},
   "outputs": [],
   "source": [
    "%run score.py"
   ]
  },
  {
   "cell_type": "code",
   "execution_count": null,
   "metadata": {},
   "outputs": [],
   "source": [
    "!more score.py"
   ]
  },
  {
   "cell_type": "code",
   "execution_count": null,
   "metadata": {},
   "outputs": [],
   "source": [
    "!more conda_dependencies.yml"
   ]
  },
  {
   "cell_type": "code",
   "execution_count": 76,
   "metadata": {},
   "outputs": [
    {
     "data": {
      "text/plain": [
       "'/home/jayaubuntudsvm/Desktop/AKSDeploymentTutorial/Keras_Tensorflow'"
      ]
     },
     "execution_count": 76,
     "metadata": {},
     "output_type": "execute_result"
    }
   ],
   "source": [
    "import os\n",
    "os.getcwd()"
   ]
  },
  {
   "cell_type": "code",
   "execution_count": 77,
   "metadata": {},
   "outputs": [
    {
     "data": {
      "text/plain": [
       "['AML_00_configuration_v0.1.50.ipynb',\n",
       " '00_DevelopModel.ipynb',\n",
       " 'AML_02_DevelopModelDriver_AKS-old.ipynb',\n",
       " 'AML_01_trainlocal-docker.ipynb',\n",
       " 'model_resnet_weights.h5',\n",
       " 'AML_02_resnet_model_weights.ipynb',\n",
       " '01_DevelopModelDriver.ipynb',\n",
       " '__pycache__',\n",
       " 'samples',\n",
       " 'resnet152_n.py',\n",
       " '06_SpeedTestWebApp.ipynb',\n",
       " '03_TestLocally.ipynb',\n",
       " 'AML_02_Develop_init_run_functions.ipynb',\n",
       " '220px-Lynx_lynx_poing (1).jpg',\n",
       " 'AML_02_AKS_deployment_v0.1.65.ipynb',\n",
       " 'AML_02_AKS_deployment.ipynb',\n",
       " 'aml_config',\n",
       " '05_TestWebApp.ipynb',\n",
       " '04_DeployOnAKS.ipynb',\n",
       " 'score.py',\n",
       " 'model_resnet.json',\n",
       " 'AML_01_trainlocal_v0.1.50.ipynb',\n",
       " 'AML_00_configuration_v0.1.65.ipynb',\n",
       " '02_BuildImage.ipynb',\n",
       " '07_TearDown.ipynb',\n",
       " 'helpers.py',\n",
       " 'testing_utilities.py',\n",
       " '220px-Lynx_lynx_poing.jpg',\n",
       " 'config',\n",
       " 'conda_dependencies.yml',\n",
       " 'resnet152.py',\n",
       " 'AML_02_AKS_deployment_v0.1.50.ipynb',\n",
       " '220px-Lynx_lynx_poing (2).jpg',\n",
       " 'README.md',\n",
       " 'environment.yml',\n",
       " 'sample_projects',\n",
       " 'AML_01_trainlocal_v0.1.65.ipynb',\n",
       " '.ipynb_checkpoints']"
      ]
     },
     "execution_count": 77,
     "metadata": {},
     "output_type": "execute_result"
    }
   ],
   "source": [
    "os.listdir(os.getcwd())"
   ]
  },
  {
   "cell_type": "code",
   "execution_count": 78,
   "metadata": {},
   "outputs": [
    {
     "name": "stdout",
     "output_type": "stream",
     "text": [
      "Creating image\n",
      "Running....................................................................\n",
      "SucceededImage creation operation finished for image myimage1:9, operation \"Succeeded\"\n"
     ]
    }
   ],
   "source": [
    "from azureml.core.image import ContainerImage\n",
    "\n",
    "image_config = ContainerImage.image_configuration(execution_script = \"score.py\",\n",
    "                                                  runtime = \"python\",\n",
    "                                                  conda_file = \"conda_dependencies.yml\",\n",
    "                                                  description = \"Image for AKS Deployment Tutorial\",\n",
    "                                                  tags = {\"name\":\"AKS\",\"project\":\"AML\"}, \n",
    "                                                  dependencies = [\"resnet152.py\",\"220px-Lynx_lynx_poing.jpg\"]\n",
    "                                                 )\n",
    "\n",
    "image = ContainerImage.create(name = \"myimage1\",\n",
    "                              # this is the model object\n",
    "                              models = [],                              \n",
    "                              image_config = image_config,\n",
    "                              workspace = ws)\n",
    "\n",
    "image.wait_for_creation(show_output = True)"
   ]
  },
  {
   "cell_type": "code",
   "execution_count": 79,
   "metadata": {},
   "outputs": [
    {
     "data": {
      "text/plain": [
       "{'myimage1': ContainerImage(workspace=<azureml.core.workspace.Workspace object at 0x7f88dfc52828>, name=myimage1, id=myimage1:9, tags={'name': 'AKS', 'project': 'AML'}, properties={}, version=9),\n",
       " 'my-aci-svc-1': ContainerImage(workspace=<azureml.core.workspace.Workspace object at 0x7f88dfc52828>, name=my-aci-svc-1, id=my-aci-svc-1:4, tags={}, properties={}, version=4)}"
      ]
     },
     "execution_count": 79,
     "metadata": {},
     "output_type": "execute_result"
    }
   ],
   "source": [
    "#list images\n",
    "images = ws.images()\n",
    "images"
   ]
  },
  {
   "cell_type": "code",
   "execution_count": null,
   "metadata": {},
   "outputs": [],
   "source": [
    "#for img in ws.images():\n",
    "#    if img.name == 'myimage1': img.delete()"
   ]
  },
  {
   "cell_type": "code",
   "execution_count": 80,
   "metadata": {},
   "outputs": [],
   "source": [
    "#Provision AKS cluster\n",
    "# Use the default configuration (can also provide parameters to customize)\n",
    "prov_config = AksCompute.provisioning_configuration()\n",
    "\n",
    "aks_name = 'jaya-aks-6' \n",
    "# Create the cluster\n",
    "aks_target = ComputeTarget.create(workspace = ws, \n",
    "                                  name = aks_name, \n",
    "                                  provisioning_configuration = prov_config)"
   ]
  },
  {
   "cell_type": "code",
   "execution_count": 81,
   "metadata": {},
   "outputs": [
    {
     "name": "stdout",
     "output_type": "stream",
     "text": [
      "Creating..........................................................................................................................................................................................\n",
      "SucceededProvisioning operation finished, operation \"Succeeded\"\n",
      "Succeeded\n",
      "None\n",
      "CPU times: user 2.82 s, sys: 135 ms, total: 2.95 s\n",
      "Wall time: 16min 9s\n"
     ]
    }
   ],
   "source": [
    "%%time\n",
    "aks_target.wait_for_completion(show_output = True)\n",
    "print(aks_target.provisioning_state)\n",
    "print(aks_target.provisioning_errors)"
   ]
  },
  {
   "cell_type": "code",
   "execution_count": 82,
   "metadata": {},
   "outputs": [
    {
     "name": "stdout",
     "output_type": "stream",
     "text": [
      "\u001b[31mThe Resource 'Microsoft.ContainerService/managedClusters/jaya-aks-6' under resource group 'jayavienna' was not found.\u001b[0m\r\n",
      "\u001b[0m"
     ]
    }
   ],
   "source": [
    "!az aks get-credentials -n 'jaya-aks-6' -g jayavienna -a -f config"
   ]
  },
  {
   "cell_type": "code",
   "execution_count": 83,
   "metadata": {},
   "outputs": [
    {
     "name": "stdout",
     "output_type": "stream",
     "text": [
      "No resources found.\r\n",
      "Error from server (NotAcceptable): unknown (get services)\r\n"
     ]
    }
   ],
   "source": [
    "!kubectl --kubeconfig config get services"
   ]
  },
  {
   "cell_type": "code",
   "execution_count": 84,
   "metadata": {},
   "outputs": [],
   "source": [
    "#Deploy web service to AKS\n",
    "#Set the web service configuration (using default here)\n",
    "aks_config = AksWebservice.deploy_configuration()"
   ]
  },
  {
   "cell_type": "code",
   "execution_count": 85,
   "metadata": {},
   "outputs": [
    {
     "name": "stdout",
     "output_type": "stream",
     "text": [
      "Creating service\n",
      "Running..................................................................\n",
      "FailedAKS service creation operation finished, operation \"Failed\"\n",
      "Service creation failed with\n",
      "StatusCode: 400\n",
      "Message: Kubernetes Deployment failed\n",
      "Transitioning\n",
      "CPU times: user 1.14 s, sys: 81.1 ms, total: 1.22 s\n",
      "Wall time: 5min 43s\n"
     ]
    }
   ],
   "source": [
    "%%time\n",
    "aks_service_name ='jaya-aks-service-7'\n",
    "\n",
    "aks_service = Webservice.deploy_from_image(workspace = ws, \n",
    "                                           name = aks_service_name,\n",
    "                                           image = image,\n",
    "                                           deployment_config = aks_config,\n",
    "                                           deployment_target = aks_target)\n",
    "aks_service.wait_for_deployment(show_output = True)\n",
    "print(aks_service.state)"
   ]
  },
  {
   "cell_type": "code",
   "execution_count": 86,
   "metadata": {},
   "outputs": [
    {
     "name": "stdout",
     "output_type": "stream",
     "text": [
      "Found the config file in: /home/jayaubuntudsvm/Desktop/AKSDeploymentTutorial/Keras_Tensorflow/aml_config/config.json\n",
      "2018-10-05 15:21:34,697 CRIT Supervisor running as root (no user in config file)\n",
      "2018-10-05 15:21:34,699 INFO supervisord started with pid 1\n",
      "2018-10-05 15:21:35,701 INFO spawned: 'rsyslog' with pid 9\n",
      "2018-10-05 15:21:35,702 INFO spawned: 'program_exit' with pid 10\n",
      "2018-10-05 15:21:35,704 INFO spawned: 'nginx' with pid 11\n",
      "2018-10-05 15:21:35,706 INFO spawned: 'iot' with pid 12\n",
      "2018-10-05 15:21:35,708 INFO spawned: 'gunicorn' with pid 13\n",
      "2018-10-05 15:21:35,716 INFO success: iot entered RUNNING state, process has stayed up for > than 0 seconds (startsecs)\n",
      "EdgeHubConnectionString and IOTEDGE_IOTHUBHOSTNAME are not set. Exiting...\n",
      "2018-10-05 15:21:35,777 INFO exited: iot (exit status 1; expected)\n",
      "2018-10-05 15:21:36,779 INFO success: rsyslog entered RUNNING state, process has stayed up for > than 1 seconds (startsecs)\n",
      "2018-10-05 15:21:36,779 INFO success: program_exit entered RUNNING state, process has stayed up for > than 1 seconds (startsecs)\n",
      "2018-10-05 15:21:40,784 INFO success: nginx entered RUNNING state, process has stayed up for > than 5 seconds (startsecs)\n",
      "{\"tags\": \"%(module)s, %(asctime)s, %(levelname)s, %(message)s\", \"timestamp\": \"2018-10-05T15:21:41.146611Z\", \"stack_info\": null, \"path\": \"/home/mmlspark/lib/conda/lib/python3.5/site-packages/gunicorn/glogging.py\", \"level\": \"INFO\", \"msg\": \"Starting gunicorn %s\", \"logger\": \"gunicorn.error\", \"message\": \"Starting gunicorn 19.6.0\", \"host\": \"jaya-aks-service-7-f98988d96-nlhxp\"}\n",
      "{\"tags\": \"%(module)s, %(asctime)s, %(levelname)s, %(message)s\", \"timestamp\": \"2018-10-05T15:21:41.147413Z\", \"stack_info\": null, \"path\": \"/home/mmlspark/lib/conda/lib/python3.5/site-packages/gunicorn/glogging.py\", \"level\": \"INFO\", \"msg\": \"Listening at: %s (%s)\", \"logger\": \"gunicorn.error\", \"message\": \"Listening at: http://127.0.0.1:9090 (13)\", \"host\": \"jaya-aks-service-7-f98988d96-nlhxp\"}\n",
      "{\"tags\": \"%(module)s, %(asctime)s, %(levelname)s, %(message)s\", \"timestamp\": \"2018-10-05T15:21:41.147538Z\", \"stack_info\": null, \"path\": \"/home/mmlspark/lib/conda/lib/python3.5/site-packages/gunicorn/glogging.py\", \"level\": \"INFO\", \"msg\": \"Using worker: %s\", \"logger\": \"gunicorn.error\", \"message\": \"Using worker: sync\", \"host\": \"jaya-aks-service-7-f98988d96-nlhxp\"}\n",
      "{\"tags\": \"%(module)s, %(asctime)s, %(levelname)s, %(message)s\", \"timestamp\": \"2018-10-05T15:21:41.148141Z\", \"path\": \"/home/mmlspark/lib/conda/lib/python3.5/site-packages/gunicorn/glogging.py\", \"level\": \"INFO\", \"stack_info\": null, \"logger\": \"gunicorn.error\", \"message\": \"worker timeout is set to 300\", \"host\": \"jaya-aks-service-7-f98988d96-nlhxp\"}\n",
      "{\"tags\": \"%(module)s, %(asctime)s, %(levelname)s, %(message)s\", \"timestamp\": \"2018-10-05T15:21:41.149057Z\", \"stack_info\": null, \"path\": \"/home/mmlspark/lib/conda/lib/python3.5/site-packages/gunicorn/glogging.py\", \"level\": \"INFO\", \"msg\": \"Booting worker with pid: %s\", \"logger\": \"gunicorn.error\", \"message\": \"Booting worker with pid: 29\", \"host\": \"jaya-aks-service-7-f98988d96-nlhxp\"}\n",
      "Initializing logger\n",
      "{\"tags\": \"%(module)s, %(asctime)s, %(levelname)s, %(message)s\", \"timestamp\": \"2018-10-05T15:21:41.626605Z\", \"path\": \"/var/azureml-app/aml_logger.py\", \"level\": \"INFO\", \"stack_info\": null, \"logger\": \"root\", \"message\": \"{\\\"apiName\\\": \\\"\\\", \\\"requestId\\\": \\\"00000000-0000-0000-0000-000000000000\\\", \\\"message\\\": \\\"Starting up app insights client\\\"}\", \"host\": \"jaya-aks-service-7-f98988d96-nlhxp\"}\n",
      "{\"tags\": \"%(module)s, %(asctime)s, %(levelname)s, %(message)s\", \"timestamp\": \"2018-10-05T15:21:41.626816Z\", \"path\": \"/var/azureml-app/aml_logger.py\", \"level\": \"INFO\", \"stack_info\": null, \"logger\": \"root\", \"message\": \"{\\\"apiName\\\": \\\"\\\", \\\"requestId\\\": \\\"00000000-0000-0000-0000-000000000000\\\", \\\"message\\\": \\\"Starting up request id generator\\\"}\", \"host\": \"jaya-aks-service-7-f98988d96-nlhxp\"}\n",
      "{\"tags\": \"%(module)s, %(asctime)s, %(levelname)s, %(message)s\", \"timestamp\": \"2018-10-05T15:21:41.626922Z\", \"path\": \"/var/azureml-app/aml_logger.py\", \"level\": \"INFO\", \"stack_info\": null, \"logger\": \"root\", \"message\": \"{\\\"apiName\\\": \\\"\\\", \\\"requestId\\\": \\\"00000000-0000-0000-0000-000000000000\\\", \\\"message\\\": \\\"Starting up app insight hooks\\\"}\", \"host\": \"jaya-aks-service-7-f98988d96-nlhxp\"}\n",
      "{\"tags\": \"%(module)s, %(asctime)s, %(levelname)s, %(message)s\", \"timestamp\": \"2018-10-05T15:21:41.627027Z\", \"path\": \"/var/azureml-app/aml_logger.py\", \"level\": \"INFO\", \"stack_info\": null, \"logger\": \"root\", \"message\": \"{\\\"apiName\\\": \\\"\\\", \\\"requestId\\\": \\\"00000000-0000-0000-0000-000000000000\\\", \\\"message\\\": \\\"Invoking user's init function\\\"}\", \"host\": \"jaya-aks-service-7-f98988d96-nlhxp\"}\n",
      "2018-10-05 15:21:43.679502: W tensorflow/core/platform/cpu_feature_guard.cc:45] The TensorFlow library wasn't compiled to use SSE4.1 instructions, but these are available on your machine and could speed up CPU computations.\n",
      "2018-10-05 15:21:43.679538: W tensorflow/core/platform/cpu_feature_guard.cc:45] The TensorFlow library wasn't compiled to use SSE4.2 instructions, but these are available on your machine and could speed up CPU computations.\n",
      "2018-10-05 15:21:43.679546: W tensorflow/core/platform/cpu_feature_guard.cc:45] The TensorFlow library wasn't compiled to use AVX instructions, but these are available on your machine and could speed up CPU computations.\n",
      "2018-10-05 15:21:43.679551: W tensorflow/core/platform/cpu_feature_guard.cc:45] The TensorFlow library wasn't compiled to use AVX2 instructions, but these are available on your machine and could speed up CPU computations.\n",
      "2018-10-05 15:21:43.679555: W tensorflow/core/platform/cpu_feature_guard.cc:45] The TensorFlow library wasn't compiled to use FMA instructions, but these are available on your machine and could speed up CPU computations.\n",
      "{\"tags\": \"%(module)s, %(asctime)s, %(levelname)s, %(message)s\", \"timestamp\": \"2018-10-05T15:22:09.811538Z\", \"path\": \"/var/azureml-app/aml_logger.py\", \"level\": \"ERROR\", \"stack_info\": null, \"logger\": \"root\", \"message\": \"{\\\"apiName\\\": \\\"\\\", \\\"requestId\\\": \\\"00000000-0000-0000-0000-000000000000\\\", \\\"message\\\": \\\"User's init function failed\\\"}\", \"host\": \"jaya-aks-service-7-f98988d96-nlhxp\"}\n",
      "{\"tags\": \"%(module)s, %(asctime)s, %(levelname)s, %(message)s\", \"timestamp\": \"2018-10-05T15:22:09.813589Z\", \"path\": \"/var/azureml-app/aml_logger.py\", \"level\": \"ERROR\", \"stack_info\": null, \"logger\": \"root\", \"message\": \"{\\\"apiName\\\": \\\"\\\", \\\"requestId\\\": \\\"00000000-0000-0000-0000-000000000000\\\", \\\"message\\\": \\\"Encountered Exception Traceback (most recent call last):\\\\n  File \\\\\\\"/var/azureml-app/aml_blueprint.py\\\\\\\", line 109, in register\\\\n    main.init()\\\\n  File \\\\\\\"/var/azureml-app/main.py\\\\\\\", line 79, in init\\\\n    driver_module.init()\\\\n  File \\\\\\\"score.py\\\\\\\", line 16, in init\\\\n    model = ResNet152(weights='imagenet')\\\\n  File \\\\\\\"/var/azureml-app/resnet152.py\\\\\\\", line 313, in ResNet152\\\\n    x = Dense(classes, activation='softmax', name='fc1000')(x)\\\\n  File \\\\\\\"/home/mmlspark/lib/conda/lib/python3.5/site-packages/keras/engine/base_layer.py\\\\\\\", line 460, in __call__\\\\n    output = self.call(inputs, **kwargs)\\\\n  File \\\\\\\"/home/mmlspark/lib/conda/lib/python3.5/site-packages/keras/layers/core.py\\\\\\\", line 889, in call\\\\n    output = self.activation(output)\\\\n  File \\\\\\\"/home/mmlspark/lib/conda/lib/python3.5/site-packages/keras/activations.py\\\\\\\", line 29, in softmax\\\\n    return K.softmax(x)\\\\n  File \\\\\\\"/home/mmlspark/lib/conda/lib/python3.5/site-packages/keras/backend/tensorflow_backend.py\\\\\\\", line 3149, in softmax\\\\n    return tf.nn.softmax(x, axis=axis)\\\\nTypeError: softmax() got an unexpected keyword argument 'axis'\\\\n\\\"}\", \"host\": \"jaya-aks-service-7-f98988d96-nlhxp\"}\n",
      "Using TensorFlow backend.\n",
      "{\"request_id\": \"no request id\", \"logger\": \"logger_stderr\", \"message\": \"Using TensorFlow backend.\\n\", \"timestamp\": \"2018-10-05T15:21:43.189824\"}\n",
      "{\"tags\": \"%(module)s, %(asctime)s, %(levelname)s, %(message)s\", \"timestamp\": \"2018-10-05T15:22:09.813805Z\", \"stack_info\": null, \"path\": \"/home/mmlspark/lib/conda/lib/python3.5/site-packages/gunicorn/glogging.py\", \"level\": \"INFO\", \"msg\": \"Worker exiting (pid: %s)\", \"logger\": \"gunicorn.error\", \"message\": \"Worker exiting (pid: 29)\", \"host\": \"jaya-aks-service-7-f98988d96-nlhxp\"}\n",
      "{\"tags\": \"%(module)s, %(asctime)s, %(levelname)s, %(message)s\", \"timestamp\": \"2018-10-05T15:22:13.790719Z\", \"stack_info\": null, \"path\": \"/home/mmlspark/lib/conda/lib/python3.5/site-packages/gunicorn/glogging.py\", \"level\": \"INFO\", \"msg\": \"Shutting down: %s\", \"logger\": \"gunicorn.error\", \"message\": \"Shutting down: Master\", \"host\": \"jaya-aks-service-7-f98988d96-nlhxp\"}\n",
      "{\"tags\": \"%(module)s, %(asctime)s, %(levelname)s, %(message)s\", \"timestamp\": \"2018-10-05T15:22:13.791040Z\", \"stack_info\": null, \"path\": \"/home/mmlspark/lib/conda/lib/python3.5/site-packages/gunicorn/glogging.py\", \"level\": \"INFO\", \"msg\": \"Reason: %s\", \"logger\": \"gunicorn.error\", \"message\": \"Reason: Worker failed to boot.\", \"host\": \"jaya-aks-service-7-f98988d96-nlhxp\"}\n",
      "2018-10-05 15:22:13,814 INFO exited: gunicorn (exit status 3; not expected)\n",
      "2018-10-05 15:22:14,817 INFO spawned: 'gunicorn' with pid 43\n",
      "{\"stack_info\": null, \"message\": \"Starting gunicorn 19.6.0\", \"logger\": \"gunicorn.error\", \"timestamp\": \"2018-10-05T15:22:20.199337Z\", \"msg\": \"Starting gunicorn %s\", \"path\": \"/home/mmlspark/lib/conda/lib/python3.5/site-packages/gunicorn/glogging.py\", \"tags\": \"%(module)s, %(asctime)s, %(levelname)s, %(message)s\", \"host\": \"jaya-aks-service-7-f98988d96-nlhxp\", \"level\": \"INFO\"}\n",
      "{\"stack_info\": null, \"message\": \"Listening at: http://127.0.0.1:9090 (43)\", \"logger\": \"gunicorn.error\", \"timestamp\": \"2018-10-05T15:22:20.200032Z\", \"msg\": \"Listening at: %s (%s)\", \"path\": \"/home/mmlspark/lib/conda/lib/python3.5/site-packages/gunicorn/glogging.py\", \"tags\": \"%(module)s, %(asctime)s, %(levelname)s, %(message)s\", \"host\": \"jaya-aks-service-7-f98988d96-nlhxp\", \"level\": \"INFO\"}\n",
      "{\"stack_info\": null, \"message\": \"Using worker: sync\", \"logger\": \"gunicorn.error\", \"timestamp\": \"2018-10-05T15:22:20.200149Z\", \"msg\": \"Using worker: %s\", \"path\": \"/home/mmlspark/lib/conda/lib/python3.5/site-packages/gunicorn/glogging.py\", \"tags\": \"%(module)s, %(asctime)s, %(levelname)s, %(message)s\", \"host\": \"jaya-aks-service-7-f98988d96-nlhxp\", \"level\": \"INFO\"}\n",
      "{\"stack_info\": null, \"message\": \"worker timeout is set to 300\", \"logger\": \"gunicorn.error\", \"timestamp\": \"2018-10-05T15:22:20.200745Z\", \"path\": \"/home/mmlspark/lib/conda/lib/python3.5/site-packages/gunicorn/glogging.py\", \"tags\": \"%(module)s, %(asctime)s, %(levelname)s, %(message)s\", \"host\": \"jaya-aks-service-7-f98988d96-nlhxp\", \"level\": \"INFO\"}\n",
      "{\"stack_info\": null, \"message\": \"Booting worker with pid: 47\", \"logger\": \"gunicorn.error\", \"timestamp\": \"2018-10-05T15:22:20.201665Z\", \"msg\": \"Booting worker with pid: %s\", \"path\": \"/home/mmlspark/lib/conda/lib/python3.5/site-packages/gunicorn/glogging.py\", \"tags\": \"%(module)s, %(asctime)s, %(levelname)s, %(message)s\", \"host\": \"jaya-aks-service-7-f98988d96-nlhxp\", \"level\": \"INFO\"}\n",
      "Initializing logger\n",
      "{\"stack_info\": null, \"message\": \"{\\\"requestId\\\": \\\"00000000-0000-0000-0000-000000000000\\\", \\\"apiName\\\": \\\"\\\", \\\"message\\\": \\\"Starting up app insights client\\\"}\", \"logger\": \"root\", \"timestamp\": \"2018-10-05T15:22:20.592544Z\", \"path\": \"/var/azureml-app/aml_logger.py\", \"tags\": \"%(module)s, %(asctime)s, %(levelname)s, %(message)s\", \"host\": \"jaya-aks-service-7-f98988d96-nlhxp\", \"level\": \"INFO\"}\n",
      "{\"stack_info\": null, \"message\": \"{\\\"requestId\\\": \\\"00000000-0000-0000-0000-000000000000\\\", \\\"apiName\\\": \\\"\\\", \\\"message\\\": \\\"Starting up request id generator\\\"}\", \"logger\": \"root\", \"timestamp\": \"2018-10-05T15:22:20.592755Z\", \"path\": \"/var/azureml-app/aml_logger.py\", \"tags\": \"%(module)s, %(asctime)s, %(levelname)s, %(message)s\", \"host\": \"jaya-aks-service-7-f98988d96-nlhxp\", \"level\": \"INFO\"}\n",
      "{\"stack_info\": null, \"message\": \"{\\\"requestId\\\": \\\"00000000-0000-0000-0000-000000000000\\\", \\\"apiName\\\": \\\"\\\", \\\"message\\\": \\\"Starting up app insight hooks\\\"}\", \"logger\": \"root\", \"timestamp\": \"2018-10-05T15:22:20.592860Z\", \"path\": \"/var/azureml-app/aml_logger.py\", \"tags\": \"%(module)s, %(asctime)s, %(levelname)s, %(message)s\", \"host\": \"jaya-aks-service-7-f98988d96-nlhxp\", \"level\": \"INFO\"}\n",
      "{\"stack_info\": null, \"message\": \"{\\\"requestId\\\": \\\"00000000-0000-0000-0000-000000000000\\\", \\\"apiName\\\": \\\"\\\", \\\"message\\\": \\\"Invoking user's init function\\\"}\", \"logger\": \"root\", \"timestamp\": \"2018-10-05T15:22:20.592957Z\", \"path\": \"/var/azureml-app/aml_logger.py\", \"tags\": \"%(module)s, %(asctime)s, %(levelname)s, %(message)s\", \"host\": \"jaya-aks-service-7-f98988d96-nlhxp\", \"level\": \"INFO\"}\n",
      "2018-10-05 15:22:22.225533: W tensorflow/core/platform/cpu_feature_guard.cc:45] The TensorFlow library wasn't compiled to use SSE4.1 instructions, but these are available on your machine and could speed up CPU computations.\n",
      "2018-10-05 15:22:22.225572: W tensorflow/core/platform/cpu_feature_guard.cc:45] The TensorFlow library wasn't compiled to use SSE4.2 instructions, but these are available on your machine and could speed up CPU computations.\n",
      "2018-10-05 15:22:22.225593: W tensorflow/core/platform/cpu_feature_guard.cc:45] The TensorFlow library wasn't compiled to use AVX instructions, but these are available on your machine and could speed up CPU computations.\n",
      "2018-10-05 15:22:22.225610: W tensorflow/core/platform/cpu_feature_guard.cc:45] The TensorFlow library wasn't compiled to use AVX2 instructions, but these are available on your machine and could speed up CPU computations.\n",
      "2018-10-05 15:22:22.225615: W tensorflow/core/platform/cpu_feature_guard.cc:45] The TensorFlow library wasn't compiled to use FMA instructions, but these are available on your machine and could speed up CPU computations.\n",
      "{\"stack_info\": null, \"message\": \"{\\\"requestId\\\": \\\"00000000-0000-0000-0000-000000000000\\\", \\\"apiName\\\": \\\"\\\", \\\"message\\\": \\\"User's init function failed\\\"}\", \"logger\": \"root\", \"timestamp\": \"2018-10-05T15:22:48.765426Z\", \"path\": \"/var/azureml-app/aml_logger.py\", \"tags\": \"%(module)s, %(asctime)s, %(levelname)s, %(message)s\", \"host\": \"jaya-aks-service-7-f98988d96-nlhxp\", \"level\": \"ERROR\"}\n",
      "{\"stack_info\": null, \"message\": \"{\\\"requestId\\\": \\\"00000000-0000-0000-0000-000000000000\\\", \\\"apiName\\\": \\\"\\\", \\\"message\\\": \\\"Encountered Exception Traceback (most recent call last):\\\\n  File \\\\\\\"/var/azureml-app/aml_blueprint.py\\\\\\\", line 109, in register\\\\n    main.init()\\\\n  File \\\\\\\"/var/azureml-app/main.py\\\\\\\", line 79, in init\\\\n    driver_module.init()\\\\n  File \\\\\\\"score.py\\\\\\\", line 16, in init\\\\n    model = ResNet152(weights='imagenet')\\\\n  File \\\\\\\"/var/azureml-app/resnet152.py\\\\\\\", line 313, in ResNet152\\\\n    x = Dense(classes, activation='softmax', name='fc1000')(x)\\\\n  File \\\\\\\"/home/mmlspark/lib/conda/lib/python3.5/site-packages/keras/engine/base_layer.py\\\\\\\", line 460, in __call__\\\\n    output = self.call(inputs, **kwargs)\\\\n  File \\\\\\\"/home/mmlspark/lib/conda/lib/python3.5/site-packages/keras/layers/core.py\\\\\\\", line 889, in call\\\\n    output = self.activation(output)\\\\n  File \\\\\\\"/home/mmlspark/lib/conda/lib/python3.5/site-packages/keras/activations.py\\\\\\\", line 29, in softmax\\\\n    return K.softmax(x)\\\\n  File \\\\\\\"/home/mmlspark/lib/conda/lib/python3.5/site-packages/keras/backend/tensorflow_backend.py\\\\\\\", line 3149, in softmax\\\\n    return tf.nn.softmax(x, axis=axis)\\\\nTypeError: softmax() got an unexpected keyword argument 'axis'\\\\n\\\"}\", \"logger\": \"root\", \"timestamp\": \"2018-10-05T15:22:48.767554Z\", \"path\": \"/var/azureml-app/aml_logger.py\", \"tags\": \"%(module)s, %(asctime)s, %(levelname)s, %(message)s\", \"host\": \"jaya-aks-service-7-f98988d96-nlhxp\", \"level\": \"ERROR\"}\n",
      "Using TensorFlow backend.\n",
      "{\"request_id\": \"no request id\", \"message\": \"Using TensorFlow backend.\\n\", \"logger\": \"logger_stderr\", \"timestamp\": \"2018-10-05T15:22:21.982884\"}\n",
      "{\"stack_info\": null, \"message\": \"Worker exiting (pid: 47)\", \"logger\": \"gunicorn.error\", \"timestamp\": \"2018-10-05T15:22:48.767760Z\", \"msg\": \"Worker exiting (pid: %s)\", \"path\": \"/home/mmlspark/lib/conda/lib/python3.5/site-packages/gunicorn/glogging.py\", \"tags\": \"%(module)s, %(asctime)s, %(levelname)s, %(message)s\", \"host\": \"jaya-aks-service-7-f98988d96-nlhxp\", \"level\": \"INFO\"}\n",
      "{\"stack_info\": null, \"message\": \"Shutting down: Master\", \"logger\": \"gunicorn.error\", \"timestamp\": \"2018-10-05T15:22:51.905314Z\", \"msg\": \"Shutting down: %s\", \"path\": \"/home/mmlspark/lib/conda/lib/python3.5/site-packages/gunicorn/glogging.py\", \"tags\": \"%(module)s, %(asctime)s, %(levelname)s, %(message)s\", \"host\": \"jaya-aks-service-7-f98988d96-nlhxp\", \"level\": \"INFO\"}\n",
      "{\"stack_info\": null, \"message\": \"Reason: Worker failed to boot.\", \"logger\": \"gunicorn.error\", \"timestamp\": \"2018-10-05T15:22:51.905615Z\", \"msg\": \"Reason: %s\", \"path\": \"/home/mmlspark/lib/conda/lib/python3.5/site-packages/gunicorn/glogging.py\", \"tags\": \"%(module)s, %(asctime)s, %(levelname)s, %(message)s\", \"host\": \"jaya-aks-service-7-f98988d96-nlhxp\", \"level\": \"INFO\"}\n",
      "2018-10-05 15:22:51,932 INFO exited: gunicorn (exit status 3; not expected)\n",
      "2018-10-05 15:22:52,933 INFO gave up: gunicorn entered FATAL state, too many start retries too quickly\n",
      "2018-10-05 15:22:53,935 WARN program_exit: bad result line: 'Killing supervisor with this event: ver:3.0 server:supervisor serial:0 pool:program_exit poolserial:0 eventname:PROCESS_STATE_FATAL len:58'\n",
      "2018-10-05 15:22:53,935 WARN program_exit: has entered the UNKNOWN state and will no longer receive events, this usually indicates the process violated the eventlistener protocol\n",
      "2018-10-05 15:22:53,935 WARN received SIGQUIT indicating exit request\n",
      "2018-10-05 15:22:53,935 INFO waiting for nginx, rsyslog, program_exit to die\n",
      "2018-10-05 15:22:54,939 INFO stopped: nginx (exit status 0)\n",
      "2018-10-05 15:22:54,940 INFO stopped: program_exit (terminated by SIGTERM)\n",
      "2018-10-05 15:22:54,941 INFO stopped: rsyslog (exit status 0)\n",
      "\n"
     ]
    }
   ],
   "source": [
    "#Debug\n",
    "\n",
    "# load workspace from default config file\n",
    "ws = Workspace.from_config()\n",
    "\n",
    "# list all web services in the workspace\n",
    "#for s in ws.webservices():\n",
    "#    print(s.name)\n",
    "\n",
    "# instantiate the web service object from workspace and service name\n",
    "svc = Webservice(workspace = ws, name = 'jaya-aks-service-7')\n",
    "\n",
    "# print out the Docker log\n",
    "print(svc.get_logs())"
   ]
  },
  {
   "cell_type": "code",
   "execution_count": 87,
   "metadata": {},
   "outputs": [
    {
     "name": "stdout",
     "output_type": "stream",
     "text": [
      "2018-10-05 15:21:34,697 CRIT Supervisor running as root (no user in config file)\n",
      "2018-10-05 15:21:34,699 INFO supervisord started with pid 1\n",
      "2018-10-05 15:21:35,701 INFO spawned: 'rsyslog' with pid 9\n",
      "2018-10-05 15:21:35,702 INFO spawned: 'program_exit' with pid 10\n",
      "2018-10-05 15:21:35,704 INFO spawned: 'nginx' with pid 11\n",
      "2018-10-05 15:21:35,706 INFO spawned: 'iot' with pid 12\n",
      "2018-10-05 15:21:35,708 INFO spawned: 'gunicorn' with pid 13\n",
      "2018-10-05 15:21:35,716 INFO success: iot entered RUNNING state, process has stayed up for > than 0 seconds (startsecs)\n",
      "EdgeHubConnectionString and IOTEDGE_IOTHUBHOSTNAME are not set. Exiting...\n",
      "2018-10-05 15:21:35,777 INFO exited: iot (exit status 1; expected)\n",
      "2018-10-05 15:21:36,779 INFO success: rsyslog entered RUNNING state, process has stayed up for > than 1 seconds (startsecs)\n",
      "2018-10-05 15:21:36,779 INFO success: program_exit entered RUNNING state, process has stayed up for > than 1 seconds (startsecs)\n",
      "2018-10-05 15:21:40,784 INFO success: nginx entered RUNNING state, process has stayed up for > than 5 seconds (startsecs)\n",
      "{\"tags\": \"%(module)s, %(asctime)s, %(levelname)s, %(message)s\", \"timestamp\": \"2018-10-05T15:21:41.146611Z\", \"stack_info\": null, \"path\": \"/home/mmlspark/lib/conda/lib/python3.5/site-packages/gunicorn/glogging.py\", \"level\": \"INFO\", \"msg\": \"Starting gunicorn %s\", \"logger\": \"gunicorn.error\", \"message\": \"Starting gunicorn 19.6.0\", \"host\": \"jaya-aks-service-7-f98988d96-nlhxp\"}\n",
      "{\"tags\": \"%(module)s, %(asctime)s, %(levelname)s, %(message)s\", \"timestamp\": \"2018-10-05T15:21:41.147413Z\", \"stack_info\": null, \"path\": \"/home/mmlspark/lib/conda/lib/python3.5/site-packages/gunicorn/glogging.py\", \"level\": \"INFO\", \"msg\": \"Listening at: %s (%s)\", \"logger\": \"gunicorn.error\", \"message\": \"Listening at: http://127.0.0.1:9090 (13)\", \"host\": \"jaya-aks-service-7-f98988d96-nlhxp\"}\n",
      "{\"tags\": \"%(module)s, %(asctime)s, %(levelname)s, %(message)s\", \"timestamp\": \"2018-10-05T15:21:41.147538Z\", \"stack_info\": null, \"path\": \"/home/mmlspark/lib/conda/lib/python3.5/site-packages/gunicorn/glogging.py\", \"level\": \"INFO\", \"msg\": \"Using worker: %s\", \"logger\": \"gunicorn.error\", \"message\": \"Using worker: sync\", \"host\": \"jaya-aks-service-7-f98988d96-nlhxp\"}\n",
      "{\"tags\": \"%(module)s, %(asctime)s, %(levelname)s, %(message)s\", \"timestamp\": \"2018-10-05T15:21:41.148141Z\", \"path\": \"/home/mmlspark/lib/conda/lib/python3.5/site-packages/gunicorn/glogging.py\", \"level\": \"INFO\", \"stack_info\": null, \"logger\": \"gunicorn.error\", \"message\": \"worker timeout is set to 300\", \"host\": \"jaya-aks-service-7-f98988d96-nlhxp\"}\n",
      "{\"tags\": \"%(module)s, %(asctime)s, %(levelname)s, %(message)s\", \"timestamp\": \"2018-10-05T15:21:41.149057Z\", \"stack_info\": null, \"path\": \"/home/mmlspark/lib/conda/lib/python3.5/site-packages/gunicorn/glogging.py\", \"level\": \"INFO\", \"msg\": \"Booting worker with pid: %s\", \"logger\": \"gunicorn.error\", \"message\": \"Booting worker with pid: 29\", \"host\": \"jaya-aks-service-7-f98988d96-nlhxp\"}\n",
      "Initializing logger\n",
      "{\"tags\": \"%(module)s, %(asctime)s, %(levelname)s, %(message)s\", \"timestamp\": \"2018-10-05T15:21:41.626605Z\", \"path\": \"/var/azureml-app/aml_logger.py\", \"level\": \"INFO\", \"stack_info\": null, \"logger\": \"root\", \"message\": \"{\\\"apiName\\\": \\\"\\\", \\\"requestId\\\": \\\"00000000-0000-0000-0000-000000000000\\\", \\\"message\\\": \\\"Starting up app insights client\\\"}\", \"host\": \"jaya-aks-service-7-f98988d96-nlhxp\"}\n",
      "{\"tags\": \"%(module)s, %(asctime)s, %(levelname)s, %(message)s\", \"timestamp\": \"2018-10-05T15:21:41.626816Z\", \"path\": \"/var/azureml-app/aml_logger.py\", \"level\": \"INFO\", \"stack_info\": null, \"logger\": \"root\", \"message\": \"{\\\"apiName\\\": \\\"\\\", \\\"requestId\\\": \\\"00000000-0000-0000-0000-000000000000\\\", \\\"message\\\": \\\"Starting up request id generator\\\"}\", \"host\": \"jaya-aks-service-7-f98988d96-nlhxp\"}\n",
      "{\"tags\": \"%(module)s, %(asctime)s, %(levelname)s, %(message)s\", \"timestamp\": \"2018-10-05T15:21:41.626922Z\", \"path\": \"/var/azureml-app/aml_logger.py\", \"level\": \"INFO\", \"stack_info\": null, \"logger\": \"root\", \"message\": \"{\\\"apiName\\\": \\\"\\\", \\\"requestId\\\": \\\"00000000-0000-0000-0000-000000000000\\\", \\\"message\\\": \\\"Starting up app insight hooks\\\"}\", \"host\": \"jaya-aks-service-7-f98988d96-nlhxp\"}\n",
      "{\"tags\": \"%(module)s, %(asctime)s, %(levelname)s, %(message)s\", \"timestamp\": \"2018-10-05T15:21:41.627027Z\", \"path\": \"/var/azureml-app/aml_logger.py\", \"level\": \"INFO\", \"stack_info\": null, \"logger\": \"root\", \"message\": \"{\\\"apiName\\\": \\\"\\\", \\\"requestId\\\": \\\"00000000-0000-0000-0000-000000000000\\\", \\\"message\\\": \\\"Invoking user's init function\\\"}\", \"host\": \"jaya-aks-service-7-f98988d96-nlhxp\"}\n",
      "2018-10-05 15:21:43.679502: W tensorflow/core/platform/cpu_feature_guard.cc:45] The TensorFlow library wasn't compiled to use SSE4.1 instructions, but these are available on your machine and could speed up CPU computations.\n",
      "2018-10-05 15:21:43.679538: W tensorflow/core/platform/cpu_feature_guard.cc:45] The TensorFlow library wasn't compiled to use SSE4.2 instructions, but these are available on your machine and could speed up CPU computations.\n",
      "2018-10-05 15:21:43.679546: W tensorflow/core/platform/cpu_feature_guard.cc:45] The TensorFlow library wasn't compiled to use AVX instructions, but these are available on your machine and could speed up CPU computations.\n",
      "2018-10-05 15:21:43.679551: W tensorflow/core/platform/cpu_feature_guard.cc:45] The TensorFlow library wasn't compiled to use AVX2 instructions, but these are available on your machine and could speed up CPU computations.\n",
      "2018-10-05 15:21:43.679555: W tensorflow/core/platform/cpu_feature_guard.cc:45] The TensorFlow library wasn't compiled to use FMA instructions, but these are available on your machine and could speed up CPU computations.\n",
      "{\"tags\": \"%(module)s, %(asctime)s, %(levelname)s, %(message)s\", \"timestamp\": \"2018-10-05T15:22:09.811538Z\", \"path\": \"/var/azureml-app/aml_logger.py\", \"level\": \"ERROR\", \"stack_info\": null, \"logger\": \"root\", \"message\": \"{\\\"apiName\\\": \\\"\\\", \\\"requestId\\\": \\\"00000000-0000-0000-0000-000000000000\\\", \\\"message\\\": \\\"User's init function failed\\\"}\", \"host\": \"jaya-aks-service-7-f98988d96-nlhxp\"}\n",
      "{\"tags\": \"%(module)s, %(asctime)s, %(levelname)s, %(message)s\", \"timestamp\": \"2018-10-05T15:22:09.813589Z\", \"path\": \"/var/azureml-app/aml_logger.py\", \"level\": \"ERROR\", \"stack_info\": null, \"logger\": \"root\", \"message\": \"{\\\"apiName\\\": \\\"\\\", \\\"requestId\\\": \\\"00000000-0000-0000-0000-000000000000\\\", \\\"message\\\": \\\"Encountered Exception Traceback (most recent call last):\\\\n  File \\\\\\\"/var/azureml-app/aml_blueprint.py\\\\\\\", line 109, in register\\\\n    main.init()\\\\n  File \\\\\\\"/var/azureml-app/main.py\\\\\\\", line 79, in init\\\\n    driver_module.init()\\\\n  File \\\\\\\"score.py\\\\\\\", line 16, in init\\\\n    model = ResNet152(weights='imagenet')\\\\n  File \\\\\\\"/var/azureml-app/resnet152.py\\\\\\\", line 313, in ResNet152\\\\n    x = Dense(classes, activation='softmax', name='fc1000')(x)\\\\n  File \\\\\\\"/home/mmlspark/lib/conda/lib/python3.5/site-packages/keras/engine/base_layer.py\\\\\\\", line 460, in __call__\\\\n    output = self.call(inputs, **kwargs)\\\\n  File \\\\\\\"/home/mmlspark/lib/conda/lib/python3.5/site-packages/keras/layers/core.py\\\\\\\", line 889, in call\\\\n    output = self.activation(output)\\\\n  File \\\\\\\"/home/mmlspark/lib/conda/lib/python3.5/site-packages/keras/activations.py\\\\\\\", line 29, in softmax\\\\n    return K.softmax(x)\\\\n  File \\\\\\\"/home/mmlspark/lib/conda/lib/python3.5/site-packages/keras/backend/tensorflow_backend.py\\\\\\\", line 3149, in softmax\\\\n    return tf.nn.softmax(x, axis=axis)\\\\nTypeError: softmax() got an unexpected keyword argument 'axis'\\\\n\\\"}\", \"host\": \"jaya-aks-service-7-f98988d96-nlhxp\"}\n",
      "Using TensorFlow backend.\n",
      "{\"request_id\": \"no request id\", \"logger\": \"logger_stderr\", \"message\": \"Using TensorFlow backend.\\n\", \"timestamp\": \"2018-10-05T15:21:43.189824\"}\n",
      "{\"tags\": \"%(module)s, %(asctime)s, %(levelname)s, %(message)s\", \"timestamp\": \"2018-10-05T15:22:09.813805Z\", \"stack_info\": null, \"path\": \"/home/mmlspark/lib/conda/lib/python3.5/site-packages/gunicorn/glogging.py\", \"level\": \"INFO\", \"msg\": \"Worker exiting (pid: %s)\", \"logger\": \"gunicorn.error\", \"message\": \"Worker exiting (pid: 29)\", \"host\": \"jaya-aks-service-7-f98988d96-nlhxp\"}\n",
      "{\"tags\": \"%(module)s, %(asctime)s, %(levelname)s, %(message)s\", \"timestamp\": \"2018-10-05T15:22:13.790719Z\", \"stack_info\": null, \"path\": \"/home/mmlspark/lib/conda/lib/python3.5/site-packages/gunicorn/glogging.py\", \"level\": \"INFO\", \"msg\": \"Shutting down: %s\", \"logger\": \"gunicorn.error\", \"message\": \"Shutting down: Master\", \"host\": \"jaya-aks-service-7-f98988d96-nlhxp\"}\n",
      "{\"tags\": \"%(module)s, %(asctime)s, %(levelname)s, %(message)s\", \"timestamp\": \"2018-10-05T15:22:13.791040Z\", \"stack_info\": null, \"path\": \"/home/mmlspark/lib/conda/lib/python3.5/site-packages/gunicorn/glogging.py\", \"level\": \"INFO\", \"msg\": \"Reason: %s\", \"logger\": \"gunicorn.error\", \"message\": \"Reason: Worker failed to boot.\", \"host\": \"jaya-aks-service-7-f98988d96-nlhxp\"}\n",
      "2018-10-05 15:22:13,814 INFO exited: gunicorn (exit status 3; not expected)\n",
      "2018-10-05 15:22:14,817 INFO spawned: 'gunicorn' with pid 43\n",
      "{\"stack_info\": null, \"message\": \"Starting gunicorn 19.6.0\", \"logger\": \"gunicorn.error\", \"timestamp\": \"2018-10-05T15:22:20.199337Z\", \"msg\": \"Starting gunicorn %s\", \"path\": \"/home/mmlspark/lib/conda/lib/python3.5/site-packages/gunicorn/glogging.py\", \"tags\": \"%(module)s, %(asctime)s, %(levelname)s, %(message)s\", \"host\": \"jaya-aks-service-7-f98988d96-nlhxp\", \"level\": \"INFO\"}\n",
      "{\"stack_info\": null, \"message\": \"Listening at: http://127.0.0.1:9090 (43)\", \"logger\": \"gunicorn.error\", \"timestamp\": \"2018-10-05T15:22:20.200032Z\", \"msg\": \"Listening at: %s (%s)\", \"path\": \"/home/mmlspark/lib/conda/lib/python3.5/site-packages/gunicorn/glogging.py\", \"tags\": \"%(module)s, %(asctime)s, %(levelname)s, %(message)s\", \"host\": \"jaya-aks-service-7-f98988d96-nlhxp\", \"level\": \"INFO\"}\n",
      "{\"stack_info\": null, \"message\": \"Using worker: sync\", \"logger\": \"gunicorn.error\", \"timestamp\": \"2018-10-05T15:22:20.200149Z\", \"msg\": \"Using worker: %s\", \"path\": \"/home/mmlspark/lib/conda/lib/python3.5/site-packages/gunicorn/glogging.py\", \"tags\": \"%(module)s, %(asctime)s, %(levelname)s, %(message)s\", \"host\": \"jaya-aks-service-7-f98988d96-nlhxp\", \"level\": \"INFO\"}\n",
      "{\"stack_info\": null, \"message\": \"worker timeout is set to 300\", \"logger\": \"gunicorn.error\", \"timestamp\": \"2018-10-05T15:22:20.200745Z\", \"path\": \"/home/mmlspark/lib/conda/lib/python3.5/site-packages/gunicorn/glogging.py\", \"tags\": \"%(module)s, %(asctime)s, %(levelname)s, %(message)s\", \"host\": \"jaya-aks-service-7-f98988d96-nlhxp\", \"level\": \"INFO\"}\n",
      "{\"stack_info\": null, \"message\": \"Booting worker with pid: 47\", \"logger\": \"gunicorn.error\", \"timestamp\": \"2018-10-05T15:22:20.201665Z\", \"msg\": \"Booting worker with pid: %s\", \"path\": \"/home/mmlspark/lib/conda/lib/python3.5/site-packages/gunicorn/glogging.py\", \"tags\": \"%(module)s, %(asctime)s, %(levelname)s, %(message)s\", \"host\": \"jaya-aks-service-7-f98988d96-nlhxp\", \"level\": \"INFO\"}\n",
      "Initializing logger\n",
      "{\"stack_info\": null, \"message\": \"{\\\"requestId\\\": \\\"00000000-0000-0000-0000-000000000000\\\", \\\"apiName\\\": \\\"\\\", \\\"message\\\": \\\"Starting up app insights client\\\"}\", \"logger\": \"root\", \"timestamp\": \"2018-10-05T15:22:20.592544Z\", \"path\": \"/var/azureml-app/aml_logger.py\", \"tags\": \"%(module)s, %(asctime)s, %(levelname)s, %(message)s\", \"host\": \"jaya-aks-service-7-f98988d96-nlhxp\", \"level\": \"INFO\"}\n",
      "{\"stack_info\": null, \"message\": \"{\\\"requestId\\\": \\\"00000000-0000-0000-0000-000000000000\\\", \\\"apiName\\\": \\\"\\\", \\\"message\\\": \\\"Starting up request id generator\\\"}\", \"logger\": \"root\", \"timestamp\": \"2018-10-05T15:22:20.592755Z\", \"path\": \"/var/azureml-app/aml_logger.py\", \"tags\": \"%(module)s, %(asctime)s, %(levelname)s, %(message)s\", \"host\": \"jaya-aks-service-7-f98988d96-nlhxp\", \"level\": \"INFO\"}\n",
      "{\"stack_info\": null, \"message\": \"{\\\"requestId\\\": \\\"00000000-0000-0000-0000-000000000000\\\", \\\"apiName\\\": \\\"\\\", \\\"message\\\": \\\"Starting up app insight hooks\\\"}\", \"logger\": \"root\", \"timestamp\": \"2018-10-05T15:22:20.592860Z\", \"path\": \"/var/azureml-app/aml_logger.py\", \"tags\": \"%(module)s, %(asctime)s, %(levelname)s, %(message)s\", \"host\": \"jaya-aks-service-7-f98988d96-nlhxp\", \"level\": \"INFO\"}\n",
      "{\"stack_info\": null, \"message\": \"{\\\"requestId\\\": \\\"00000000-0000-0000-0000-000000000000\\\", \\\"apiName\\\": \\\"\\\", \\\"message\\\": \\\"Invoking user's init function\\\"}\", \"logger\": \"root\", \"timestamp\": \"2018-10-05T15:22:20.592957Z\", \"path\": \"/var/azureml-app/aml_logger.py\", \"tags\": \"%(module)s, %(asctime)s, %(levelname)s, %(message)s\", \"host\": \"jaya-aks-service-7-f98988d96-nlhxp\", \"level\": \"INFO\"}\n",
      "2018-10-05 15:22:22.225533: W tensorflow/core/platform/cpu_feature_guard.cc:45] The TensorFlow library wasn't compiled to use SSE4.1 instructions, but these are available on your machine and could speed up CPU computations.\n",
      "2018-10-05 15:22:22.225572: W tensorflow/core/platform/cpu_feature_guard.cc:45] The TensorFlow library wasn't compiled to use SSE4.2 instructions, but these are available on your machine and could speed up CPU computations.\n",
      "2018-10-05 15:22:22.225593: W tensorflow/core/platform/cpu_feature_guard.cc:45] The TensorFlow library wasn't compiled to use AVX instructions, but these are available on your machine and could speed up CPU computations.\n",
      "2018-10-05 15:22:22.225610: W tensorflow/core/platform/cpu_feature_guard.cc:45] The TensorFlow library wasn't compiled to use AVX2 instructions, but these are available on your machine and could speed up CPU computations.\n",
      "2018-10-05 15:22:22.225615: W tensorflow/core/platform/cpu_feature_guard.cc:45] The TensorFlow library wasn't compiled to use FMA instructions, but these are available on your machine and could speed up CPU computations.\n",
      "{\"stack_info\": null, \"message\": \"{\\\"requestId\\\": \\\"00000000-0000-0000-0000-000000000000\\\", \\\"apiName\\\": \\\"\\\", \\\"message\\\": \\\"User's init function failed\\\"}\", \"logger\": \"root\", \"timestamp\": \"2018-10-05T15:22:48.765426Z\", \"path\": \"/var/azureml-app/aml_logger.py\", \"tags\": \"%(module)s, %(asctime)s, %(levelname)s, %(message)s\", \"host\": \"jaya-aks-service-7-f98988d96-nlhxp\", \"level\": \"ERROR\"}\n",
      "{\"stack_info\": null, \"message\": \"{\\\"requestId\\\": \\\"00000000-0000-0000-0000-000000000000\\\", \\\"apiName\\\": \\\"\\\", \\\"message\\\": \\\"Encountered Exception Traceback (most recent call last):\\\\n  File \\\\\\\"/var/azureml-app/aml_blueprint.py\\\\\\\", line 109, in register\\\\n    main.init()\\\\n  File \\\\\\\"/var/azureml-app/main.py\\\\\\\", line 79, in init\\\\n    driver_module.init()\\\\n  File \\\\\\\"score.py\\\\\\\", line 16, in init\\\\n    model = ResNet152(weights='imagenet')\\\\n  File \\\\\\\"/var/azureml-app/resnet152.py\\\\\\\", line 313, in ResNet152\\\\n    x = Dense(classes, activation='softmax', name='fc1000')(x)\\\\n  File \\\\\\\"/home/mmlspark/lib/conda/lib/python3.5/site-packages/keras/engine/base_layer.py\\\\\\\", line 460, in __call__\\\\n    output = self.call(inputs, **kwargs)\\\\n  File \\\\\\\"/home/mmlspark/lib/conda/lib/python3.5/site-packages/keras/layers/core.py\\\\\\\", line 889, in call\\\\n    output = self.activation(output)\\\\n  File \\\\\\\"/home/mmlspark/lib/conda/lib/python3.5/site-packages/keras/activations.py\\\\\\\", line 29, in softmax\\\\n    return K.softmax(x)\\\\n  File \\\\\\\"/home/mmlspark/lib/conda/lib/python3.5/site-packages/keras/backend/tensorflow_backend.py\\\\\\\", line 3149, in softmax\\\\n    return tf.nn.softmax(x, axis=axis)\\\\nTypeError: softmax() got an unexpected keyword argument 'axis'\\\\n\\\"}\", \"logger\": \"root\", \"timestamp\": \"2018-10-05T15:22:48.767554Z\", \"path\": \"/var/azureml-app/aml_logger.py\", \"tags\": \"%(module)s, %(asctime)s, %(levelname)s, %(message)s\", \"host\": \"jaya-aks-service-7-f98988d96-nlhxp\", \"level\": \"ERROR\"}\n",
      "Using TensorFlow backend.\n",
      "{\"request_id\": \"no request id\", \"message\": \"Using TensorFlow backend.\\n\", \"logger\": \"logger_stderr\", \"timestamp\": \"2018-10-05T15:22:21.982884\"}\n",
      "{\"stack_info\": null, \"message\": \"Worker exiting (pid: 47)\", \"logger\": \"gunicorn.error\", \"timestamp\": \"2018-10-05T15:22:48.767760Z\", \"msg\": \"Worker exiting (pid: %s)\", \"path\": \"/home/mmlspark/lib/conda/lib/python3.5/site-packages/gunicorn/glogging.py\", \"tags\": \"%(module)s, %(asctime)s, %(levelname)s, %(message)s\", \"host\": \"jaya-aks-service-7-f98988d96-nlhxp\", \"level\": \"INFO\"}\n",
      "{\"stack_info\": null, \"message\": \"Shutting down: Master\", \"logger\": \"gunicorn.error\", \"timestamp\": \"2018-10-05T15:22:51.905314Z\", \"msg\": \"Shutting down: %s\", \"path\": \"/home/mmlspark/lib/conda/lib/python3.5/site-packages/gunicorn/glogging.py\", \"tags\": \"%(module)s, %(asctime)s, %(levelname)s, %(message)s\", \"host\": \"jaya-aks-service-7-f98988d96-nlhxp\", \"level\": \"INFO\"}\n",
      "{\"stack_info\": null, \"message\": \"Reason: Worker failed to boot.\", \"logger\": \"gunicorn.error\", \"timestamp\": \"2018-10-05T15:22:51.905615Z\", \"msg\": \"Reason: %s\", \"path\": \"/home/mmlspark/lib/conda/lib/python3.5/site-packages/gunicorn/glogging.py\", \"tags\": \"%(module)s, %(asctime)s, %(levelname)s, %(message)s\", \"host\": \"jaya-aks-service-7-f98988d96-nlhxp\", \"level\": \"INFO\"}\n",
      "2018-10-05 15:22:51,932 INFO exited: gunicorn (exit status 3; not expected)\n",
      "2018-10-05 15:22:52,933 INFO gave up: gunicorn entered FATAL state, too many start retries too quickly\n",
      "2018-10-05 15:22:53,935 WARN program_exit: bad result line: 'Killing supervisor with this event: ver:3.0 server:supervisor serial:0 pool:program_exit poolserial:0 eventname:PROCESS_STATE_FATAL len:58'\n",
      "2018-10-05 15:22:53,935 WARN program_exit: has entered the UNKNOWN state and will no longer receive events, this usually indicates the process violated the eventlistener protocol\n",
      "2018-10-05 15:22:53,935 WARN received SIGQUIT indicating exit request\n",
      "2018-10-05 15:22:53,935 INFO waiting for nginx, rsyslog, program_exit to die\n",
      "2018-10-05 15:22:54,939 INFO stopped: nginx (exit status 0)\n",
      "2018-10-05 15:22:54,940 INFO stopped: program_exit (terminated by SIGTERM)\n",
      "2018-10-05 15:22:54,941 INFO stopped: rsyslog (exit status 0)\n",
      "\n"
     ]
    }
   ],
   "source": [
    "#debug web service failure\n",
    "print(ws.webservices()['jaya-aks-service-7'].get_logs())"
   ]
  },
  {
   "cell_type": "code",
   "execution_count": null,
   "metadata": {},
   "outputs": [],
   "source": [
    "#clean up resources\n",
    "#aks_target = AksCompute(name='jaya-aks-1',workspace=ws)\n",
    "#aks_target.delete()"
   ]
  },
  {
   "cell_type": "code",
   "execution_count": null,
   "metadata": {},
   "outputs": [],
   "source": [
    "#alternate code to clean up resources\n",
    "#!az aks delete --resource-group jayavienna --name jaya-aks-2 --yes"
   ]
  },
  {
   "cell_type": "code",
   "execution_count": null,
   "metadata": {},
   "outputs": [],
   "source": [
    "#for s in ws.webservices():\n",
    "#    print(s.name)"
   ]
  },
  {
   "cell_type": "code",
   "execution_count": null,
   "metadata": {},
   "outputs": [],
   "source": [
    "#s =  Webservice(ws, 'jaya-aks-service-2')\n",
    "#s.delete()"
   ]
  },
  {
   "cell_type": "code",
   "execution_count": null,
   "metadata": {},
   "outputs": [],
   "source": [
    "#from azureml.core import Workspace\n",
    "#from azureml.core.compute import AksCompute, ComputeTarget\n",
    "\n",
    "#ws = Workspace.from_config()\n",
    "\n",
    "#for c in ws.compute_targets():\n",
    "#    print(c.name)\n"
   ]
  },
  {
   "cell_type": "code",
   "execution_count": null,
   "metadata": {},
   "outputs": [],
   "source": []
  }
 ],
 "metadata": {
  "kernelspec": {
   "display_name": "Python [conda env:myenv]",
   "language": "python",
   "name": "conda-env-myenv-py"
  },
  "language_info": {
   "codemirror_mode": {
    "name": "ipython",
    "version": 3
   },
   "file_extension": ".py",
   "mimetype": "text/x-python",
   "name": "python",
   "nbconvert_exporter": "python",
   "pygments_lexer": "ipython3",
   "version": "3.6.6"
  }
 },
 "nbformat": 4,
 "nbformat_minor": 2
}
